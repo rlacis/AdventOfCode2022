{
 "cells": [
  {
   "cell_type": "markdown",
   "source": [
    "# Part 1"
   ],
   "metadata": {
    "collapsed": false
   }
  },
  {
   "cell_type": "code",
   "execution_count": 1,
   "outputs": [],
   "source": [
    "with open('day2_input.txt') as f:\n",
    "    contents = f.read()"
   ],
   "metadata": {
    "collapsed": false
   }
  },
  {
   "cell_type": "code",
   "execution_count": 2,
   "outputs": [],
   "source": [
    "strategy = contents.split('\\n')"
   ],
   "metadata": {
    "collapsed": false
   }
  },
  {
   "cell_type": "code",
   "execution_count": 3,
   "outputs": [],
   "source": [
    "win_loss_tie_scoring = {'A X': 3, 'B Y': 3, 'C Z': 3,\n",
    "                        'A Z': 0, 'B X': 0, 'C Y': 0,\n",
    "                        'A Y': 6, 'B Z': 6, 'C X': 6}\n",
    "\n",
    "shape_played_scoring = {'X': 1, 'Y': 2, 'Z': 3}"
   ],
   "metadata": {
    "collapsed": false
   }
  },
  {
   "cell_type": "code",
   "execution_count": 4,
   "outputs": [
    {
     "data": {
      "text/plain": "13005"
     },
     "execution_count": 4,
     "metadata": {},
     "output_type": "execute_result"
    }
   ],
   "source": [
    "score = 0\n",
    "for game_round in strategy:\n",
    "    score += (win_loss_tie_scoring[game_round] + shape_played_scoring[game_round[-1]])\n",
    "score"
   ],
   "metadata": {
    "collapsed": false
   }
  },
  {
   "cell_type": "markdown",
   "source": [
    "# Part 2"
   ],
   "metadata": {
    "collapsed": false
   }
  },
  {
   "cell_type": "code",
   "execution_count": 5,
   "outputs": [],
   "source": [
    "outcome_map = {'A X': 'A Z', 'B X': 'B X', 'C X': 'C Y',\n",
    "               'A Y': 'A X', 'B Y': 'B Y', 'C Y': 'C Z',\n",
    "               'A Z': 'A Y', 'B Z': 'B Z', 'C Z': 'C X'}"
   ],
   "metadata": {
    "collapsed": false
   }
  },
  {
   "cell_type": "code",
   "execution_count": 6,
   "outputs": [
    {
     "data": {
      "text/plain": "11373"
     },
     "execution_count": 6,
     "metadata": {},
     "output_type": "execute_result"
    }
   ],
   "source": [
    "score = 0\n",
    "for game_round in strategy:\n",
    "    outcome = outcome_map[game_round]\n",
    "    score += (win_loss_tie_scoring[outcome] + shape_played_scoring[outcome[-1]])\n",
    "score"
   ],
   "metadata": {
    "collapsed": false
   }
  }
 ],
 "metadata": {
  "kernelspec": {
   "display_name": "Python 3",
   "language": "python",
   "name": "python3"
  },
  "language_info": {
   "codemirror_mode": {
    "name": "ipython",
    "version": 2
   },
   "file_extension": ".py",
   "mimetype": "text/x-python",
   "name": "python",
   "nbconvert_exporter": "python",
   "pygments_lexer": "ipython2",
   "version": "2.7.6"
  }
 },
 "nbformat": 4,
 "nbformat_minor": 0
}
