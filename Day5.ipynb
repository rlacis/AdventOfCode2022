{
 "cells": [
  {
   "cell_type": "markdown",
   "source": [
    "# Part 1"
   ],
   "metadata": {
    "collapsed": false
   }
  },
  {
   "cell_type": "code",
   "execution_count": 323,
   "outputs": [],
   "source": [
    "import copy\n",
    "import logging\n",
    "logging.basicConfig(level=logging.INFO)\n",
    "logger = logging.getLogger('AoC22')\n",
    "logger.setLevel(logging.CRITICAL)"
   ],
   "metadata": {
    "collapsed": false
   }
  },
  {
   "cell_type": "code",
   "execution_count": 324,
   "outputs": [],
   "source": [
    "with open('day5_input.txt') as f:\n",
    "    contents = f.read().split('\\n')"
   ],
   "metadata": {
    "collapsed": false
   }
  },
  {
   "cell_type": "code",
   "execution_count": 325,
   "outputs": [],
   "source": [
    "for index, item in enumerate(contents):\n",
    "    if len(item) == 0:\n",
    "        stack_counter_row = index - 1\n",
    "        break\n",
    "number_of_stacks = int(contents[stack_counter_row].split(' ')[-1])"
   ],
   "metadata": {
    "collapsed": false
   }
  },
  {
   "cell_type": "code",
   "execution_count": 326,
   "outputs": [],
   "source": [
    "# set up a list of empty stacks\n",
    "stacks = list()\n",
    "for i in range(0,number_of_stacks):\n",
    "    stacks.append(list())"
   ],
   "metadata": {
    "collapsed": false
   }
  },
  {
   "cell_type": "code",
   "execution_count": 327,
   "outputs": [],
   "source": [
    "# build the stacks\n",
    "for stack_row in list(range(stack_counter_row-1,-1,-1)):\n",
    "    for stack_item in range(0,number_of_stacks):\n",
    "        try:\n",
    "            if contents[stack_row][stack_item * 4 + 1] != ' ':\n",
    "                stacks[stack_item].append(contents[stack_row][stack_item * 4 + 1])\n",
    "        except IndexError:\n",
    "            pass\n",
    "\n",
    "# make a deep copy for Part 2\n",
    "stacks2 = copy.deepcopy(stacks)\n",
    "logger.info(f'{stacks = }')"
   ],
   "metadata": {
    "collapsed": false
   }
  },
  {
   "cell_type": "code",
   "execution_count": 328,
   "outputs": [],
   "source": [
    "# iterate over the moves\n",
    "for move in range(stack_counter_row + 2, len(contents)):\n",
    "    number_to_move = int(contents[move].split(\" \")[1])\n",
    "    from_stack = int(contents[move].split(\" \")[3])\n",
    "    to_stack = int(contents[move].split(\" \")[5])\n",
    "    # print(f'{number_to_move = } {from_stack = } {to_stack = }')\n",
    "    # print(f'{stacks = }')\n",
    "    # pop items from the from_stack and add them to the to_stack\n",
    "    for i in range(0,number_to_move):\n",
    "        stacks[to_stack - 1].append(stacks[from_stack - 1].pop(-1))\n",
    "    # print(f'{stacks = }')"
   ],
   "metadata": {
    "collapsed": false
   }
  },
  {
   "cell_type": "code",
   "execution_count": 329,
   "outputs": [
    {
     "data": {
      "text/plain": "'HNSNMTLHQ'"
     },
     "execution_count": 329,
     "metadata": {},
     "output_type": "execute_result"
    }
   ],
   "source": [
    "# iterate over the stacks to get the top item\n",
    "items_on_top = ''\n",
    "for stack in stacks:\n",
    "    items_on_top += stack[-1]\n",
    "items_on_top"
   ],
   "metadata": {
    "collapsed": false
   }
  },
  {
   "cell_type": "markdown",
   "source": [
    "# Part 2"
   ],
   "metadata": {
    "collapsed": false
   }
  },
  {
   "cell_type": "code",
   "execution_count": 330,
   "outputs": [],
   "source": [
    "# iterate over the moves\n",
    "for move in range(stack_counter_row + 2, len(contents)):\n",
    "    number_to_move = int(contents[move].split(\" \")[1])\n",
    "    from_stack = int(contents[move].split(\" \")[3])\n",
    "    to_stack = int(contents[move].split(\" \")[5])\n",
    "    items_to_move = list()\n",
    "    # pop items from the from_stack to a list, reverse the list and add them (extend function) to the to_stack\n",
    "    for i in range(0,number_to_move):\n",
    "        items_to_move += stacks2[from_stack - 1].pop(-1)\n",
    "    items_to_move.reverse()\n",
    "    stacks2[to_stack - 1].extend(items_to_move)"
   ],
   "metadata": {
    "collapsed": false
   }
  },
  {
   "cell_type": "code",
   "execution_count": 331,
   "outputs": [
    {
     "data": {
      "text/plain": "'RNLFDJMCT'"
     },
     "execution_count": 331,
     "metadata": {},
     "output_type": "execute_result"
    }
   ],
   "source": [
    "# iterate over the stacks to get the top item\n",
    "items_on_top = ''\n",
    "for stack in stacks2:\n",
    "    items_on_top += stack[-1]\n",
    "items_on_top"
   ],
   "metadata": {
    "collapsed": false
   }
  }
 ],
 "metadata": {
  "kernelspec": {
   "display_name": "Python 3",
   "language": "python",
   "name": "python3"
  },
  "language_info": {
   "codemirror_mode": {
    "name": "ipython",
    "version": 2
   },
   "file_extension": ".py",
   "mimetype": "text/x-python",
   "name": "python",
   "nbconvert_exporter": "python",
   "pygments_lexer": "ipython2",
   "version": "2.7.6"
  }
 },
 "nbformat": 4,
 "nbformat_minor": 0
}
