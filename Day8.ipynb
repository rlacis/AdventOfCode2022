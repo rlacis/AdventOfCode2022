{
 "cells": [
  {
   "cell_type": "code",
   "execution_count": 154,
   "outputs": [],
   "source": [
    "import logging\n",
    "logging.basicConfig(level=logging.INFO)\n",
    "logger = logging.getLogger('AoC22')"
   ],
   "metadata": {
    "collapsed": false
   }
  },
  {
   "cell_type": "markdown",
   "source": [
    "# Part 1"
   ],
   "metadata": {
    "collapsed": false
   }
  },
  {
   "cell_type": "code",
   "execution_count": 155,
   "outputs": [],
   "source": [
    "logger.setLevel(logging.CRITICAL)\n",
    "with open('day8_input.txt') as f:\n",
    "    contents = f.read().split('\\n')"
   ],
   "metadata": {
    "collapsed": false
   }
  },
  {
   "cell_type": "code",
   "execution_count": 156,
   "outputs": [],
   "source": [
    "grid_width = len(contents[0])\n",
    "grid_height = len(contents)\n",
    "\n",
    "logger.info(f'{grid_height = } {grid_width = }')\n",
    "visibility_matrix = ['*' * grid_width]\n",
    "for i in range(0,grid_height-1):\n",
    "    visibility_matrix.append('*' + ' ' * (grid_width - 2) + '*')\n",
    "visibility_matrix.append('*' * grid_width)"
   ],
   "metadata": {
    "collapsed": false
   }
  },
  {
   "cell_type": "code",
   "execution_count": 157,
   "outputs": [],
   "source": [
    "forest = [[int(i) for i in list(line)] for line in contents]\n",
    "forest_transposed = [[forest[j][i] for j in range(len(forest))] for i in range(len(forest[0]))]"
   ],
   "metadata": {
    "collapsed": false
   }
  },
  {
   "cell_type": "code",
   "execution_count": 158,
   "outputs": [
    {
     "data": {
      "text/plain": "1829"
     },
     "execution_count": 158,
     "metadata": {},
     "output_type": "execute_result"
    }
   ],
   "source": [
    "visible_count = 2 * grid_width + 2 * (grid_height - 2)\n",
    "for row in range(1,grid_height - 1):\n",
    "    for column in range(1,grid_width - 1):\n",
    "        visible_left = True if (forest[row][column] > max(forest[row][0:column])) else False\n",
    "        visible_right = True if (forest[row][column] > max(forest[row][column+1:grid_width])) else False\n",
    "        visible_top = True if (forest_transposed[column][row] > max(forest_transposed[column][0:row])) else False\n",
    "        visible_bottom = True if (forest_transposed[column][row] > max(forest_transposed[column][row+1:grid_width])) else False\n",
    "        visible_count += 1 if (visible_left or visible_right or visible_top or visible_bottom) else 0\n",
    "        # logger.info(f'{row =} {column =} {visible_left =} {visible_right =} {visible_top =} {visible_bottom =}')\n",
    "visible_count"
   ],
   "metadata": {
    "collapsed": false
   }
  },
  {
   "cell_type": "markdown",
   "source": [
    "# Part 2"
   ],
   "metadata": {
    "collapsed": false
   }
  },
  {
   "cell_type": "code",
   "execution_count": 159,
   "outputs": [
    {
     "data": {
      "text/plain": "291840"
     },
     "execution_count": 159,
     "metadata": {},
     "output_type": "execute_result"
    }
   ],
   "source": [
    "def viewing_distance(tree_height, tree_list):\n",
    "    distance = 0\n",
    "    for tree in tree_list:\n",
    "        if tree_height > tree:\n",
    "            distance += 1\n",
    "        else:\n",
    "            distance += 1\n",
    "            break\n",
    "    return distance\n",
    "\n",
    "max_scenic_score = 0\n",
    "for row in range(1,grid_height - 1):\n",
    "    for column in range(1,grid_width - 1):\n",
    "        left_trees = list(reversed(forest[row][0:column]))\n",
    "        right_trees = forest[row][column+1:grid_width]\n",
    "        top_trees = list(reversed(forest_transposed[column][0:row]))\n",
    "        bottom_trees = forest_transposed[column][row+1:grid_width]\n",
    "\n",
    "        left_distance = viewing_distance(forest[row][column], left_trees)\n",
    "        right_distance = viewing_distance(forest[row][column], right_trees)\n",
    "        top_distance = viewing_distance(forest[row][column], top_trees)\n",
    "        bottom_distance = viewing_distance(forest[row][column], bottom_trees)\n",
    "\n",
    "        scenic_score = left_distance * right_distance * top_distance * bottom_distance\n",
    "        max_scenic_score = max(max_scenic_score, scenic_score)\n",
    "\n",
    "        if row == 3 and column == 2:\n",
    "            logger.info(f'{row =} {column =} {forest[row][column] =} {left_trees =} {right_trees =} {top_trees =} {bottom_trees =}')\n",
    "            logger.info(f'{left_distance =} {right_distance =} {top_distance =} {bottom_distance =}')\n",
    "\n",
    "max_scenic_score"
   ],
   "metadata": {
    "collapsed": false
   }
  }
 ],
 "metadata": {
  "kernelspec": {
   "display_name": "Python 3",
   "language": "python",
   "name": "python3"
  },
  "language_info": {
   "codemirror_mode": {
    "name": "ipython",
    "version": 2
   },
   "file_extension": ".py",
   "mimetype": "text/x-python",
   "name": "python",
   "nbconvert_exporter": "python",
   "pygments_lexer": "ipython2",
   "version": "2.7.6"
  }
 },
 "nbformat": 4,
 "nbformat_minor": 0
}
