{
 "cells": [
  {
   "cell_type": "markdown",
   "source": [
    "# Part 1"
   ],
   "metadata": {
    "collapsed": false
   }
  },
  {
   "cell_type": "code",
   "execution_count": 36,
   "outputs": [],
   "source": [
    "with open('day4_input.txt') as f:\n",
    "    contents = f.read().split('\\n')"
   ],
   "metadata": {
    "collapsed": false
   }
  },
  {
   "cell_type": "code",
   "execution_count": 37,
   "outputs": [
    {
     "name": "stdout",
     "output_type": "stream",
     "text": [
      "full_contained_count = 534\n"
     ]
    }
   ],
   "source": [
    "full_contained_count = 0\n",
    "for assignment in contents:\n",
    "    elf1, elf2 = assignment.split(',')\n",
    "    elf1_set = set(range(int(elf1.split('-')[0]), int(elf1.split('-')[1])+1))\n",
    "    elf2_set = set(range(int(elf2.split('-')[0]), int(elf2.split('-')[1])+1))\n",
    "    # print(f'{elf1_set = } {elf2_set = }')\n",
    "    if elf1_set.issubset(elf2_set) or elf2_set.issubset(elf1_set):\n",
    "        full_contained_count += 1\n",
    "print(f'{full_contained_count = }')"
   ],
   "metadata": {
    "collapsed": false
   }
  },
  {
   "cell_type": "markdown",
   "source": [
    "# Part 2"
   ],
   "metadata": {
    "collapsed": false
   }
  },
  {
   "cell_type": "code",
   "execution_count": 38,
   "outputs": [
    {
     "name": "stdout",
     "output_type": "stream",
     "text": [
      "overlap_count = 841\n"
     ]
    }
   ],
   "source": [
    "overlap_count = 0\n",
    "for assignment in contents:\n",
    "    elf1, elf2 = assignment.split(',')\n",
    "    elf1_set = set(range(int(elf1.split('-')[0]), int(elf1.split('-')[1])+1))\n",
    "    elf2_set = set(range(int(elf2.split('-')[0]), int(elf2.split('-')[1])+1))\n",
    "    #print(f'{elf1_set = } {elf2_set = }')\n",
    "    #print(f'{elf1_set.intersection(elf2_set) = } {len(elf1_set.intersection(elf2_set)) = }')\n",
    "    if len(elf1_set.intersection(elf2_set)) > 0:\n",
    "        overlap_count += 1\n",
    "print(f'{overlap_count = }')"
   ],
   "metadata": {
    "collapsed": false
   }
  },
  {
   "cell_type": "code",
   "execution_count": 38,
   "outputs": [],
   "source": [],
   "metadata": {
    "collapsed": false
   }
  }
 ],
 "metadata": {
  "kernelspec": {
   "display_name": "Python 3",
   "language": "python",
   "name": "python3"
  },
  "language_info": {
   "codemirror_mode": {
    "name": "ipython",
    "version": 2
   },
   "file_extension": ".py",
   "mimetype": "text/x-python",
   "name": "python",
   "nbconvert_exporter": "python",
   "pygments_lexer": "ipython2",
   "version": "2.7.6"
  }
 },
 "nbformat": 4,
 "nbformat_minor": 0
}
