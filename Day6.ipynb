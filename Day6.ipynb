{
 "cells": [
  {
   "cell_type": "code",
   "execution_count": 83,
   "outputs": [],
   "source": [
    "import logging\n",
    "logging.basicConfig(level=logging.INFO)\n",
    "logger = logging.getLogger('AoC22')\n",
    "logger.setLevel(logging.CRITICAL)"
   ],
   "metadata": {
    "collapsed": false
   }
  },
  {
   "cell_type": "markdown",
   "source": [
    "# Part 1"
   ],
   "metadata": {
    "collapsed": false
   }
  },
  {
   "cell_type": "code",
   "execution_count": 84,
   "outputs": [],
   "source": [
    "with open('day6_input.txt') as f:\n",
    "    contents = f.read().split('\\n')\n",
    "\n",
    "logger.info(f'{contents = }')"
   ],
   "metadata": {
    "collapsed": false
   }
  },
  {
   "cell_type": "code",
   "execution_count": 85,
   "outputs": [
    {
     "name": "stdout",
     "output_type": "stream",
     "text": [
      "First marker after character 1566\n"
     ]
    }
   ],
   "source": [
    "for datastream_buffer in contents:\n",
    "    for position in range(0,len(datastream_buffer)-3):\n",
    "        if len(list(set(datastream_buffer[position:position+4]))) == 4:\n",
    "            print(f'First marker after character {position + 4}')\n",
    "            break"
   ],
   "metadata": {
    "collapsed": false
   }
  },
  {
   "cell_type": "markdown",
   "source": [
    "# Part 2"
   ],
   "metadata": {
    "collapsed": false
   }
  },
  {
   "cell_type": "code",
   "execution_count": 86,
   "outputs": [
    {
     "name": "stdout",
     "output_type": "stream",
     "text": [
      "First marker after character 2265\n"
     ]
    }
   ],
   "source": [
    "for datastream_buffer in contents:\n",
    "    for position in range(0,len(datastream_buffer)-13):\n",
    "        if len(list(set(datastream_buffer[position:position+14]))) == 14:\n",
    "            print(f'First marker after character {position + 14}')\n",
    "            break"
   ],
   "metadata": {
    "collapsed": false
   }
  }
 ],
 "metadata": {
  "kernelspec": {
   "display_name": "Python 3",
   "language": "python",
   "name": "python3"
  },
  "language_info": {
   "codemirror_mode": {
    "name": "ipython",
    "version": 2
   },
   "file_extension": ".py",
   "mimetype": "text/x-python",
   "name": "python",
   "nbconvert_exporter": "python",
   "pygments_lexer": "ipython2",
   "version": "2.7.6"
  }
 },
 "nbformat": 4,
 "nbformat_minor": 0
}
