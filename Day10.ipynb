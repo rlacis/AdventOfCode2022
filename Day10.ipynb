{
 "cells": [
  {
   "cell_type": "code",
   "execution_count": 102,
   "outputs": [],
   "source": [
    "import logging\n",
    "import numpy as np\n",
    "import math\n",
    "logging.basicConfig(level=logging.INFO)\n",
    "logger = logging.getLogger('AoC22')"
   ],
   "metadata": {
    "collapsed": false
   }
  },
  {
   "cell_type": "markdown",
   "source": [
    "# Part 1"
   ],
   "metadata": {
    "collapsed": false
   }
  },
  {
   "cell_type": "code",
   "execution_count": 103,
   "outputs": [],
   "source": [
    "logger.setLevel(logging.INFO)\n",
    "with open('day10_input.txt') as f:\n",
    "    contents = f.read().split('\\n')"
   ],
   "metadata": {
    "collapsed": false
   }
  },
  {
   "cell_type": "code",
   "execution_count": 104,
   "outputs": [
    {
     "name": "stderr",
     "output_type": "stream",
     "text": [
      "INFO:AoC22:Interesting signal strength cycle 20 = 420\n",
      "INFO:AoC22:Interesting signal strength cycle 60 = 960\n",
      "INFO:AoC22:Interesting signal strength cycle 100 = 2100\n",
      "INFO:AoC22:Interesting signal strength cycle 140 = 2240\n",
      "INFO:AoC22:Interesting signal strength cycle 180 = 2880\n",
      "INFO:AoC22:Interesting signal strength cycle 220 = 4620\n"
     ]
    },
    {
     "data": {
      "text/plain": "13220"
     },
     "execution_count": 104,
     "metadata": {},
     "output_type": "execute_result"
    }
   ],
   "source": [
    "cycle = 1\n",
    "instruction_pointer = 0\n",
    "x_register = 1\n",
    "instruction_cycles = {'noop': 1, 'addx': 2}\n",
    "cycle_finished = True\n",
    "instruction = None\n",
    "v = 0\n",
    "signal_strength_total = 0\n",
    "while True:\n",
    "    # logger.info(f'Begin cycle {cycle}: {x_register = } {instruction = } {v = } {cycle_finished = }')\n",
    "    if cycle_finished:\n",
    "        try:\n",
    "            # get the next instruction\n",
    "            instruction = contents[instruction_pointer].split(' ')[0]\n",
    "            if instruction == 'addx':\n",
    "                v = int(contents[instruction_pointer].split(' ')[1])\n",
    "            cycles_to_complete_instruction = instruction_cycles[instruction]\n",
    "            cycle_finished = False\n",
    "            cycle_counter = 0\n",
    "            instruction_pointer += 1\n",
    "        except IndexError:\n",
    "            # reached the end of instructions\n",
    "            break\n",
    "\n",
    "    if (cycle - 20) % 40 == 0:\n",
    "        signal_strength = cycle * x_register\n",
    "        logger.info(f'Interesting signal strength cycle {cycle} = {signal_strength}')\n",
    "        signal_strength_total += signal_strength\n",
    "\n",
    "    if instruction == 'addx':\n",
    "        cycle_counter += 1\n",
    "        if cycle_counter == cycles_to_complete_instruction:\n",
    "            x_register += v\n",
    "            cycle_finished = True\n",
    "    else:\n",
    "        cycle_counter +=1\n",
    "        if cycle_counter == cycles_to_complete_instruction:\n",
    "            cycle_finished = True\n",
    "    # logger.info(f'End cycle {cycle}: {x_register = } {instruction = } {v =} {cycle_finished = }')\n",
    "\n",
    "    cycle += 1\n",
    "\n",
    "signal_strength_total"
   ],
   "metadata": {
    "collapsed": false
   }
  },
  {
   "cell_type": "markdown",
   "source": [
    "# Part 2"
   ],
   "metadata": {
    "collapsed": false
   }
  },
  {
   "cell_type": "code",
   "execution_count": 105,
   "outputs": [],
   "source": [
    "cycle = 1\n",
    "instruction_pointer = 0\n",
    "x_register = 1\n",
    "instruction_cycles = {'noop': 1, 'addx': 2}\n",
    "cycle_finished = True\n",
    "instruction = None\n",
    "v = 0\n",
    "image = ''\n",
    "\n",
    "logger.setLevel(logging.CRITICAL)\n",
    "\n",
    "while True:\n",
    "    logger.info(f'Start cycle {cycle} {x_register=}')\n",
    "    if cycle_finished:\n",
    "        try:\n",
    "            # get the next instruction\n",
    "            instruction = contents[instruction_pointer].split(' ')[0]\n",
    "            if instruction == 'addx':\n",
    "                v = int(contents[instruction_pointer].split(' ')[1])\n",
    "            cycles_to_complete_instruction = instruction_cycles[instruction]\n",
    "            cycle_finished = False\n",
    "            cycle_counter = 0\n",
    "            instruction_pointer += 1\n",
    "        except IndexError:\n",
    "            # reached the end of instructions\n",
    "            break\n",
    "\n",
    "    sprite_left = x_register - 1\n",
    "    sprite_right = x_register + 1\n",
    "    if sprite_left <= (cycle % 40 -1) <= sprite_right:\n",
    "        image += '#'\n",
    "    else:\n",
    "        image += '.'\n",
    "\n",
    "    if instruction == 'addx':\n",
    "        cycle_counter += 1\n",
    "        if cycle_counter == cycles_to_complete_instruction:\n",
    "            x_register += v\n",
    "            cycle_finished = True\n",
    "    else:\n",
    "        cycle_counter +=1\n",
    "        if cycle_counter == cycles_to_complete_instruction:\n",
    "            cycle_finished = True\n",
    "    logger.info(f'Current CRT Row: {image}')\n",
    "    logger.info(f'End cycle {cycle} {x_register=}')\n",
    "    cycle += 1"
   ],
   "metadata": {
    "collapsed": false
   }
  },
  {
   "cell_type": "code",
   "execution_count": 109,
   "outputs": [
    {
     "name": "stdout",
     "output_type": "stream",
     "text": [
      "###..#..#..##..#..#.#..#.###..####.#..#\n",
      "#..#.#..#.#..#.#.#..#..#.#..#.#....#.#.\n",
      "#..#.#..#.#..#.##...####.###..###..##..\n",
      "###..#..#.####.#.#..#..#.#..#.#....#.#.\n",
      "#.#..#..#.#..#.#.#..#..#.#..#.#....#.#.\n",
      "#..#..##..#..#.#..#.#..#.###..####.#..#\n"
     ]
    }
   ],
   "source": [
    "for row in range(0,6):\n",
    "    print(image[row*40:row*40 + 39])"
   ],
   "metadata": {
    "collapsed": false
   }
  },
  {
   "cell_type": "code",
   "execution_count": 110,
   "outputs": [
    {
     "data": {
      "text/plain": "39"
     },
     "execution_count": 110,
     "metadata": {},
     "output_type": "execute_result"
    }
   ],
   "source": [
    "len(image[0:39])"
   ],
   "metadata": {
    "collapsed": false
   }
  },
  {
   "cell_type": "code",
   "execution_count": null,
   "outputs": [],
   "source": [],
   "metadata": {
    "collapsed": false
   }
  }
 ],
 "metadata": {
  "kernelspec": {
   "display_name": "Python 3",
   "language": "python",
   "name": "python3"
  },
  "language_info": {
   "codemirror_mode": {
    "name": "ipython",
    "version": 2
   },
   "file_extension": ".py",
   "mimetype": "text/x-python",
   "name": "python",
   "nbconvert_exporter": "python",
   "pygments_lexer": "ipython2",
   "version": "2.7.6"
  }
 },
 "nbformat": 4,
 "nbformat_minor": 0
}
