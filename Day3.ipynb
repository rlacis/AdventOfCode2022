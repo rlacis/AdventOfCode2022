{
 "cells": [
  {
   "cell_type": "markdown",
   "source": [
    "# Part 1"
   ],
   "metadata": {
    "collapsed": false
   }
  },
  {
   "cell_type": "code",
   "execution_count": 68,
   "outputs": [],
   "source": [
    "with open('day3_input.txt') as f:\n",
    "    contents = f.read().split('\\n')"
   ],
   "metadata": {
    "collapsed": false
   }
  },
  {
   "cell_type": "code",
   "execution_count": 69,
   "outputs": [],
   "source": [
    "def item_priority(item):\n",
    "    if item.isupper():\n",
    "        priority = ord(item) - ord('A') + 27\n",
    "    else:\n",
    "        priority = ord(item) - ord('a') + 1\n",
    "    return priority"
   ],
   "metadata": {
    "collapsed": false
   }
  },
  {
   "cell_type": "code",
   "execution_count": 70,
   "outputs": [
    {
     "name": "stdout",
     "output_type": "stream",
     "text": [
      "priority_sum = 8394\n"
     ]
    }
   ],
   "source": [
    "priority_sum = 0\n",
    "for rucksack in contents:\n",
    "    first_compartment = set(rucksack[:int(len(rucksack)/2)])\n",
    "    second_compartment = set(rucksack[int(len(rucksack)/2):])\n",
    "    shared_item = list(first_compartment.intersection(second_compartment))[0]\n",
    "    priority_sum += item_priority(shared_item)\n",
    "print(f'{priority_sum = }')"
   ],
   "metadata": {
    "collapsed": false
   }
  },
  {
   "cell_type": "markdown",
   "source": [
    "# Part 2"
   ],
   "metadata": {
    "collapsed": false
   }
  },
  {
   "cell_type": "code",
   "execution_count": 71,
   "outputs": [
    {
     "name": "stdout",
     "output_type": "stream",
     "text": [
      "priority_sum = 2413\n"
     ]
    }
   ],
   "source": [
    "priority_sum = 0\n",
    "for i in range(0,int(len(contents)/3)):\n",
    "    shared_item = list(set(contents[i * 3 ]).intersection(set(contents[i * 3 +1])).intersection(set(contents[i * 3 + 2])))[0]\n",
    "    priority_sum += item_priority(shared_item)\n",
    "print(f'{priority_sum = }')"
   ],
   "metadata": {
    "collapsed": false
   }
  }
 ],
 "metadata": {
  "kernelspec": {
   "display_name": "Python 3",
   "language": "python",
   "name": "python3"
  },
  "language_info": {
   "codemirror_mode": {
    "name": "ipython",
    "version": 2
   },
   "file_extension": ".py",
   "mimetype": "text/x-python",
   "name": "python",
   "nbconvert_exporter": "python",
   "pygments_lexer": "ipython2",
   "version": "2.7.6"
  }
 },
 "nbformat": 4,
 "nbformat_minor": 0
}
