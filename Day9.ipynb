{
 "cells": [
  {
   "cell_type": "code",
   "execution_count": 322,
   "outputs": [],
   "source": [
    "import logging\n",
    "import numpy as np\n",
    "import math\n",
    "logging.basicConfig(level=logging.INFO)\n",
    "logger = logging.getLogger('AoC22')"
   ],
   "metadata": {
    "collapsed": false
   }
  },
  {
   "cell_type": "markdown",
   "source": [
    "# Part 1"
   ],
   "metadata": {
    "collapsed": false
   }
  },
  {
   "cell_type": "code",
   "execution_count": 323,
   "outputs": [],
   "source": [
    "logger.setLevel(logging.INFO)\n",
    "with open('day9_input.txt') as f:\n",
    "    contents = f.read().split('\\n')"
   ],
   "metadata": {
    "collapsed": false
   }
  },
  {
   "cell_type": "code",
   "execution_count": 324,
   "outputs": [],
   "source": [
    "def separation_distance(x1,y1,x2,y2):\n",
    "    d = ((x1-x2) ** 2 + (y1-y2) ** 2) ** 0.5\n",
    "    return d"
   ],
   "metadata": {
    "collapsed": false
   }
  },
  {
   "cell_type": "code",
   "execution_count": 325,
   "outputs": [
    {
     "name": "stderr",
     "output_type": "stream",
     "text": [
      "INFO:AoC22:x_max = 225 y_max = 16 x_min = -30 y_min = -249\n",
      "INFO:AoC22:grid_width = 256 grid_height = 266\n"
     ]
    }
   ],
   "source": [
    "# First, calculate the grid size based on the moves and the max bounds\n",
    "x_head, y_head = 0,0\n",
    "x_max, y_max = 0,0\n",
    "x_min, y_min = 0,0\n",
    "for motion in contents:\n",
    "    direction = motion.split(' ')[0]\n",
    "    distance = int(motion.split(' ')[1])\n",
    "    for move in range(0,distance):\n",
    "        if direction == 'L':\n",
    "            x_head -= 1\n",
    "        elif direction == 'R':\n",
    "            x_head += 1\n",
    "        elif direction == 'U':\n",
    "            y_head += 1\n",
    "        elif direction == 'D':\n",
    "            y_head -= 1\n",
    "    x_max = max(x_max, x_head)\n",
    "    y_max = max(y_max, y_head)\n",
    "    x_min = min(x_min, x_head)\n",
    "    y_min = min(y_min, y_head)\n",
    "grid_width = x_max - x_min + 1\n",
    "grid_height = y_max - y_min + 1\n",
    "\n",
    "logger.info(f'{x_max = } {y_max = } {x_min = } {y_min = }')\n",
    "logger.info(f'{grid_width = } {grid_height = }')"
   ],
   "metadata": {
    "collapsed": false
   }
  },
  {
   "cell_type": "code",
   "execution_count": 326,
   "outputs": [],
   "source": [
    "grid = np.full((grid_width,grid_height), 0)\n",
    "# Set the starting positions to be offset by the minimum x and y to prevent negative coordinates for the grid array\n",
    "x_head, y_head = abs(x_min), abs(y_min)\n",
    "x_tail, y_tail = abs(x_min), abs(y_min)\n",
    "grid[x_tail][y_tail] = 1\n",
    "for motion in contents:\n",
    "    direction = motion.split(' ')[0]\n",
    "    distance = int(motion.split(' ')[1])\n",
    "    for move in range(0,distance):\n",
    "        if direction == 'L':\n",
    "            x_head -= 1\n",
    "        elif direction == 'R':\n",
    "            x_head += 1\n",
    "        elif direction == 'U':\n",
    "            y_head += 1\n",
    "        elif direction == 'D':\n",
    "            y_head -= 1\n",
    "        x_delta = x_head - x_tail\n",
    "        y_delta = y_head - y_tail\n",
    "        if separation_distance(x_head,y_head,x_tail,y_tail) > math.sqrt(2):\n",
    "            # head and tail are not touching, therefore move the tail\n",
    "            if x_delta == 0:\n",
    "                # head and tail are in the same column => move the tail up or down\n",
    "                y_tail += 1 if y_delta > 0 else -1\n",
    "            elif y_delta == 0:\n",
    "                # head and tail are in the same row => move the tail left or right\n",
    "                x_tail += 1 if x_delta > 0 else -1\n",
    "            else:\n",
    "                # head and tail are diagonal => move the tail diagonal\n",
    "                x_tail += 1 if x_delta > 0 else -1\n",
    "                y_tail += 1 if y_delta > 0 else -1\n",
    "        grid[x_tail][y_tail] = 1"
   ],
   "metadata": {
    "collapsed": false
   }
  },
  {
   "cell_type": "code",
   "execution_count": 327,
   "outputs": [
    {
     "data": {
      "text/plain": "5619"
     },
     "execution_count": 327,
     "metadata": {},
     "output_type": "execute_result"
    }
   ],
   "source": [
    "grid.sum()"
   ],
   "metadata": {
    "collapsed": false
   }
  },
  {
   "cell_type": "markdown",
   "source": [
    "# Part 2"
   ],
   "metadata": {
    "collapsed": false
   }
  },
  {
   "cell_type": "code",
   "execution_count": 328,
   "outputs": [],
   "source": [
    "# Create a dictionary of rope knots with the keys running from 0 to 9, with 0 representing the head.\n",
    "# Each dictionary item is a list of [x,y] coordinates for the knot.\n",
    "# The entire rope starts on the same grid location.\n",
    "rope = dict()\n",
    "for knot in range(0,10):\n",
    "    rope[knot] = [abs(x_min),abs(y_min)]"
   ],
   "metadata": {
    "collapsed": false
   }
  },
  {
   "cell_type": "code",
   "execution_count": 329,
   "outputs": [
    {
     "data": {
      "text/plain": "2376"
     },
     "execution_count": 329,
     "metadata": {},
     "output_type": "execute_result"
    }
   ],
   "source": [
    "# Move the rope head (0) and then check each following knot (1 through 9) to see if it should move.\n",
    "# If it should move, use the direction logic from part one.\n",
    "# After cycling along the entire rope, put a 1 in the grid for each knot position in the rope.\n",
    "logger.setLevel(logging.CRITICAL)\n",
    "\n",
    "grid = np.full((grid_width,grid_height), 0)\n",
    "grid[rope[0][0]][rope[0][1]] = 1\n",
    "move_count = 0\n",
    "for motion in contents:\n",
    "    direction = motion.split(' ')[0]\n",
    "    distance = int(motion.split(' ')[1])\n",
    "    logger.info(f'Move {direction} {distance}')\n",
    "    for move in range(0,distance):\n",
    "        logger.info(f'Rope before move: {rope}')\n",
    "        move_count += 1\n",
    "\n",
    "        # Move the head of the rope first\n",
    "        if direction == 'L':\n",
    "            rope[0][0] -= 1\n",
    "        elif direction == 'R':\n",
    "            rope[0][0] += 1\n",
    "        elif direction == 'U':\n",
    "            rope[0][1] += 1\n",
    "        elif direction == 'D':\n",
    "            rope[0][1] -= 1\n",
    "\n",
    "        # After moving the head, run through the knots to see if they need to be moved\n",
    "        for knot in range(1,10):\n",
    "            x_delta = rope[knot-1][0] - rope[knot][0]\n",
    "            y_delta = rope[knot-1][1] - rope[knot][1]\n",
    "\n",
    "            logger.info(f'{move_count = }{knot = } {x_delta = } {y_delta = }')\n",
    "            if separation_distance(rope[knot-1][0],rope[knot-1][1],rope[knot][0],rope[knot][1]) > math.sqrt(2):\n",
    "                # knot and trailing knot are not touching, therefore move the trailing know\n",
    "                logger.info(f'Need to move knot {knot = }')\n",
    "                if x_delta == 0:\n",
    "                    rope[knot][1] += 1 if y_delta > 0 else -1\n",
    "                elif y_delta == 0:\n",
    "                    rope[knot][0] += 1 if x_delta > 0 else -1\n",
    "                else:\n",
    "                    rope[knot][0] += 1 if x_delta > 0 else -1\n",
    "                    rope[knot][1] += 1 if y_delta > 0 else -1\n",
    "        logger.info(f'Rope after move: {rope}')\n",
    "        # Finally, add the tail position to the grid\n",
    "        grid[rope[9][0]][rope[9][1]] = 1\n",
    "grid.sum()"
   ],
   "metadata": {
    "collapsed": false
   }
  }
 ],
 "metadata": {
  "kernelspec": {
   "display_name": "Python 3",
   "language": "python",
   "name": "python3"
  },
  "language_info": {
   "codemirror_mode": {
    "name": "ipython",
    "version": 2
   },
   "file_extension": ".py",
   "mimetype": "text/x-python",
   "name": "python",
   "nbconvert_exporter": "python",
   "pygments_lexer": "ipython2",
   "version": "2.7.6"
  }
 },
 "nbformat": 4,
 "nbformat_minor": 0
}
