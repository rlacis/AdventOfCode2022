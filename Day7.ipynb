{
 "cells": [
  {
   "cell_type": "code",
   "execution_count": 270,
   "outputs": [],
   "source": [
    "import logging\n",
    "from collections import OrderedDict\n",
    "logging.basicConfig(level=logging.INFO)\n",
    "logger = logging.getLogger('AoC22')\n"
   ],
   "metadata": {
    "collapsed": false
   }
  },
  {
   "cell_type": "markdown",
   "source": [
    "# Part 1"
   ],
   "metadata": {
    "collapsed": false
   }
  },
  {
   "cell_type": "code",
   "execution_count": 271,
   "outputs": [],
   "source": [
    "with open('day7_input.txt') as f:\n",
    "    contents = f.read().split('\\n')\n",
    "\n",
    "# logger.info(f'{contents = }')\n",
    "logger.setLevel(logging.CRITICAL)\n",
    "\n",
    "folder_contents = list()\n",
    "folder_structure = list()\n",
    "current_path = list()\n",
    "folder_contents = list()\n",
    "folder_depth = 1\n",
    "max_folder_depth = 1\n",
    "while True:\n",
    "    if len(contents) == 0:\n",
    "        break\n",
    "    line = contents[0]\n",
    "    logger.info(f'{line = }')\n",
    "    if line[0] == '$':\n",
    "\n",
    "        cmd = contents.pop(0).split(' ')[1]\n",
    "        if cmd == 'cd':\n",
    "            target_directory = line.split(' ')[2]\n",
    "            if target_directory == '/':\n",
    "                current_path = ['/']\n",
    "                folder_depth = 1\n",
    "            elif target_directory == '..':\n",
    "                current_path.pop(-1)\n",
    "                folder_depth -= 1\n",
    "            else:\n",
    "                current_path.append(target_directory)\n",
    "                folder_depth += 1\n",
    "            max_folder_depth = max(max_folder_depth, folder_depth)\n",
    "        elif cmd == 'ls':\n",
    "            logger.info(f'{cmd = }')\n",
    "            folder_contents = list()\n",
    "    else:\n",
    "        folder_contents.append(contents.pop(0))\n",
    "        logger.info(f'{current_path = }:{folder_contents = }')\n",
    "        if (len(contents) > 0 and contents[0][0] == '$') or len(contents) == 0:\n",
    "            folder_structure.append([tuple(current_path) , folder_contents])"
   ],
   "metadata": {
    "collapsed": false
   }
  },
  {
   "cell_type": "code",
   "execution_count": 272,
   "outputs": [],
   "source": [
    "def get_directory_size(directory_contents):\n",
    "    dir_size = 0\n",
    "    files = [x for x in directory_contents if x.split(' ')[0] != 'dir']\n",
    "    for file in files:\n",
    "        dir_size += int(file.split(' ')[0])\n",
    "    return dir_size"
   ],
   "metadata": {
    "collapsed": false
   }
  },
  {
   "cell_type": "code",
   "execution_count": 273,
   "outputs": [],
   "source": [
    "directory_sizes = dict()\n",
    "for folder in folder_structure:\n",
    "    directory_sizes[folder[0]] = get_directory_size(folder[1])\n",
    "directory_sizes_sorted = OrderedDict(sorted(directory_sizes.items()))"
   ],
   "metadata": {
    "collapsed": false
   }
  },
  {
   "cell_type": "code",
   "execution_count": 274,
   "outputs": [],
   "source": [
    "logger.setLevel(logging.CRITICAL)\n",
    "for folder_depth in list(range(max_folder_depth,1,-1)):\n",
    "    logger.info(f'{folder_depth = }')\n",
    "    for key, item in directory_sizes_sorted.items():\n",
    "        if len(key) == folder_depth:\n",
    "            logger.info(f'{key = } {directory_sizes_sorted[key]}')\n",
    "            logger.info(f'{key[0:-1] = } {directory_sizes_sorted[key[0:-1]]}')\n",
    "            directory_sizes_sorted[key[0:-1]] += directory_sizes_sorted[key]"
   ],
   "metadata": {
    "collapsed": false
   }
  },
  {
   "cell_type": "code",
   "execution_count": 275,
   "outputs": [
    {
     "data": {
      "text/plain": "1182909"
     },
     "execution_count": 275,
     "metadata": {},
     "output_type": "execute_result"
    }
   ],
   "source": [
    "sum_of_total_sizes = 0\n",
    "for key, item in directory_sizes_sorted.items():\n",
    "    sum_of_total_sizes += directory_sizes_sorted[key] if directory_sizes_sorted[key] <= 100000 else 0\n",
    "sum_of_total_sizes"
   ],
   "metadata": {
    "collapsed": false
   }
  },
  {
   "cell_type": "markdown",
   "source": [
    "# Part 2"
   ],
   "metadata": {
    "collapsed": false
   }
  },
  {
   "cell_type": "code",
   "execution_count": 276,
   "outputs": [],
   "source": [
    "total_disk_space = 70000000\n",
    "unused_space_requirement = 30000000"
   ],
   "metadata": {
    "collapsed": false
   }
  },
  {
   "cell_type": "code",
   "execution_count": 279,
   "outputs": [
    {
     "data": {
      "text/plain": "2832508"
     },
     "execution_count": 279,
     "metadata": {},
     "output_type": "execute_result"
    }
   ],
   "source": [
    "logger.setLevel(logging.CRITICAL)\n",
    "smallest_directory_size = total_disk_space\n",
    "for key, item in directory_sizes_sorted.items():\n",
    "    logger.info(f\"{key = } {item =} {total_disk_space - directory_sizes_sorted[('/',)] + item = } {total_disk_space - directory_sizes_sorted[('/',)] + item >= unused_space_requirement }\")\n",
    "    if (total_disk_space - directory_sizes_sorted[('/',)] + item) >= unused_space_requirement:\n",
    "        smallest_directory_size = min(item,smallest_directory_size)\n",
    "smallest_directory_size"
   ],
   "metadata": {
    "collapsed": false
   }
  }
 ],
 "metadata": {
  "kernelspec": {
   "display_name": "Python 3",
   "language": "python",
   "name": "python3"
  },
  "language_info": {
   "codemirror_mode": {
    "name": "ipython",
    "version": 2
   },
   "file_extension": ".py",
   "mimetype": "text/x-python",
   "name": "python",
   "nbconvert_exporter": "python",
   "pygments_lexer": "ipython2",
   "version": "2.7.6"
  }
 },
 "nbformat": 4,
 "nbformat_minor": 0
}
