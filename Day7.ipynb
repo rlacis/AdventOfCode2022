{
 "cells": [
  {
   "cell_type": "code",
   "execution_count": 96,
   "outputs": [],
   "source": [
    "import logging\n",
    "logging.basicConfig(level=logging.INFO)\n",
    "logger = logging.getLogger('AoC22')\n"
   ],
   "metadata": {
    "collapsed": false
   }
  },
  {
   "cell_type": "markdown",
   "source": [
    "# Part 1"
   ],
   "metadata": {
    "collapsed": false
   }
  },
  {
   "cell_type": "code",
   "execution_count": 197,
   "outputs": [],
   "source": [
    "with open('day7_input_sample.txt') as f:\n",
    "    contents = f.read().split('\\n')\n",
    "\n",
    "# logger.info(f'{contents = }')\n",
    "logger.setLevel(logging.INFO)"
   ],
   "metadata": {
    "collapsed": false
   }
  },
  {
   "cell_type": "code",
   "execution_count": 198,
   "outputs": [
    {
     "name": "stderr",
     "output_type": "stream",
     "text": [
      "INFO:AoC22:cmd = 'ls'\n",
      "INFO:AoC22:current_path = ['/'] folder_contents = ['dir a', '14848514 b.txt', '8504156 c.dat', 'dir d']\n",
      "INFO:AoC22:cmd = 'ls'\n",
      "INFO:AoC22:current_path = ['/', 'a'] folder_contents = ['dir e', '29116 f', '2557 g', '62596 h.lst']\n",
      "INFO:AoC22:cmd = 'ls'\n",
      "INFO:AoC22:current_path = ['/', 'a', 'e'] folder_contents = ['584 i']\n",
      "INFO:AoC22:cmd = 'ls'\n",
      "INFO:AoC22:current_path = ['/', 'd'] folder_contents = ['4060174 j', '8033020 d.log', '5626152 d.ext', '7214296 k']\n"
     ]
    }
   ],
   "source": [
    "folder_contents = list()\n",
    "show_contents = False\n",
    "while True:\n",
    "    if len(contents) == 0:\n",
    "        logger.info(f'{current_path = } {folder_contents = }')\n",
    "        break\n",
    "    line = contents[0]\n",
    "    if line[0] == '$':\n",
    "        cmd = contents.pop(0).split(' ')[1]\n",
    "        if show_contents:\n",
    "            logger.info(f'{current_path = } {folder_contents = }')\n",
    "            show_contents = False\n",
    "        if cmd == 'cd':\n",
    "            change_directory = line.split(' ')[2]\n",
    "            if change_directory == '/':\n",
    "                current_path = ['/']\n",
    "            elif change_directory == '..':\n",
    "                current_path.pop(-1)\n",
    "            else:\n",
    "                current_path.append(change_directory)\n",
    "        elif cmd == 'ls':\n",
    "            logger.info(f'{cmd = }')\n",
    "            folder_contents = list()\n",
    "    else:\n",
    "        folder_contents.append(contents.pop(0))\n",
    "        show_contents = True"
   ],
   "metadata": {
    "collapsed": false
   }
  },
  {
   "cell_type": "code",
   "execution_count": 207,
   "outputs": [
    {
     "name": "stderr",
     "output_type": "stream",
     "text": [
      "INFO:AoC22:j ='b'\n",
      "INFO:AoC22:j ='a'\n"
     ]
    },
    {
     "data": {
      "text/plain": "['b', 'a']"
     },
     "execution_count": 207,
     "metadata": {},
     "output_type": "execute_result"
    }
   ],
   "source": [
    "path = ['a','b']\n",
    "path.reverse()\n",
    "for j in path:\n",
    "    pass\n",
    "    logger.info(f'{j =}')\n",
    "path"
   ],
   "metadata": {
    "collapsed": false
   }
  },
  {
   "cell_type": "code",
   "execution_count": 196,
   "outputs": [
    {
     "data": {
      "text/plain": "{'a': {'b': 5}}"
     },
     "execution_count": 196,
     "metadata": {},
     "output_type": "execute_result"
    }
   ],
   "source": [],
   "metadata": {
    "collapsed": false
   }
  },
  {
   "cell_type": "code",
   "execution_count": 162,
   "outputs": [
    {
     "name": "stderr",
     "output_type": "stream",
     "text": [
      "INFO:AoC22:line = '$ cd /'\n",
      "INFO:AoC22:current_path =['/']\n",
      "INFO:AoC22:line = '$ ls'\n"
     ]
    },
    {
     "ename": "KeyboardInterrupt",
     "evalue": "",
     "output_type": "error",
     "traceback": [
      "\u001B[0;31m---------------------------------------------------------------------------\u001B[0m",
      "\u001B[0;31mKeyboardInterrupt\u001B[0m                         Traceback (most recent call last)",
      "Cell \u001B[0;32mIn[162], line 25\u001B[0m\n\u001B[1;32m     23\u001B[0m \u001B[38;5;28;01melif\u001B[39;00m cmd \u001B[38;5;241m==\u001B[39m \u001B[38;5;124m'\u001B[39m\u001B[38;5;124mls\u001B[39m\u001B[38;5;124m'\u001B[39m:\n\u001B[1;32m     24\u001B[0m     folder_contents \u001B[38;5;241m=\u001B[39m \u001B[38;5;28mlist\u001B[39m()\n\u001B[0;32m---> 25\u001B[0m     \u001B[38;5;28;01mwhile\u001B[39;00m \u001B[38;5;28;01mTrue\u001B[39;00m:\n\u001B[1;32m     26\u001B[0m         folder_item \u001B[38;5;241m=\u001B[39m contents[\u001B[38;5;241m0\u001B[39m]\n\u001B[1;32m     27\u001B[0m         \u001B[38;5;28;01mif\u001B[39;00m folder_item[\u001B[38;5;241m0\u001B[39m] \u001B[38;5;241m!=\u001B[39m \u001B[38;5;124m'\u001B[39m\u001B[38;5;124m$\u001B[39m\u001B[38;5;124m'\u001B[39m:\n",
      "\u001B[0;31mKeyboardInterrupt\u001B[0m: "
     ]
    }
   ],
   "source": [
    "# Recursion Approach\n",
    "# General folder structure {'/':[folder contents]}\n",
    "folder_structure = {'/':[]}\n",
    "line_counter = 0\n",
    "current_path = list()\n",
    "\n",
    "while True:\n",
    "    if len(contents) == 0:\n",
    "        break\n",
    "    line = contents[0]\n",
    "    logger.info(f'{line = }')\n",
    "    if line[0] == '$':\n",
    "        # Pop the top line off as a command\n",
    "        cmd = contents.pop(0).split(' ')[1]\n",
    "        if cmd == 'cd':\n",
    "            change_directory = line.split(' ')[2]\n",
    "            if change_directory == '/':\n",
    "                current_path = ['/']\n",
    "            elif change_directory == '..':\n",
    "                current_path.pop(-1)\n",
    "            else:\n",
    "                current_path.append(change_directory)\n",
    "        elif cmd == 'ls':\n",
    "            folder_contents = list()\n",
    "            while True:\n",
    "                folder_item = contents[0]\n",
    "                if folder_item[0] != '$':\n",
    "                    pass\n",
    "                    folder_contents.append(contents.pop(0))\n",
    "                else:\n",
    "                    pass\n",
    "                    #folder_structure\n",
    "    logger.info(f'{current_path =}')\n"
   ],
   "metadata": {
    "collapsed": false
   }
  },
  {
   "cell_type": "code",
   "execution_count": 157,
   "outputs": [
    {
     "ename": "KeyError",
     "evalue": "1",
     "output_type": "error",
     "traceback": [
      "\u001B[0;31m---------------------------------------------------------------------------\u001B[0m",
      "\u001B[0;31mKeyError\u001B[0m                                  Traceback (most recent call last)",
      "Cell \u001B[0;32mIn[157], line 1\u001B[0m\n\u001B[0;32m----> 1\u001B[0m \u001B[43mfolder_structure\u001B[49m\u001B[43m[\u001B[49m\u001B[38;5;241;43m1\u001B[39;49m\u001B[43m]\u001B[49m[\u001B[38;5;241m3\u001B[39m] \u001B[38;5;241m=\u001B[39m \u001B[38;5;124m'\u001B[39m\u001B[38;5;124ma\u001B[39m\u001B[38;5;124m'\u001B[39m\n",
      "\u001B[0;31mKeyError\u001B[0m: 1"
     ]
    }
   ],
   "source": [
    "ololderofolder_structure[1][3] = 'a'"
   ],
   "metadata": {
    "collapsed": false
   }
  },
  {
   "cell_type": "code",
   "execution_count": 154,
   "outputs": [
    {
     "data": {
      "text/plain": "[1, 2, 3]"
     },
     "execution_count": 154,
     "metadata": {},
     "output_type": "execute_result"
    }
   ],
   "source": [
    "x['/'][0]['test']"
   ],
   "metadata": {
    "collapsed": false
   }
  },
  {
   "cell_type": "code",
   "execution_count": 98,
   "outputs": [],
   "source": [
    "level = 0\n",
    "current_directory = ['/']\n",
    "directory = {}\n",
    "for index, line in enumerate(contents):\n",
    "    logger.info(f'Line: {index} | {line}')\n",
    "    logger.info(f'Current Directory: {current_directory = }')\n",
    "    if line[0] == '$':\n",
    "        command = line.split(' ')[1]\n",
    "        logger.info(f'Command {command = }')\n",
    "        if command == 'cd':\n",
    "            move_direction = line.split(' ')[2]\n",
    "            if move_direction == '/':\n",
    "                move_to = 'outermost'\n",
    "                level = 0\n",
    "                current_directory = ['/']\n",
    "            elif move_direction == '..':\n",
    "                move_to = 'out one level'\n",
    "                level -= 1\n",
    "                current_directory.pop(-1)\n",
    "            else:\n",
    "                move_to = f'move to {line.split(\" \")[2]}'\n",
    "                level += 1\n",
    "                current_directory.append(line.split(' ')[2])\n",
    "            logger.info(f'Move {move_direction} {move_to = } {level = }')\n",
    "        if command == 'ls':\n",
    "            logger.info('List')\n",
    "    elif line[0:3] == 'dir':\n",
    "        # Don't really need to do anything with the directory\n",
    "        logger.info(f'Directory: {line}')\n",
    "    else:\n",
    "        size = int(line.split(' ')[0])\n",
    "        filename = line.split(' ')[1]\n",
    "        logger.info(f'{line = } {size = }')\n",
    "        # TODO create a list of files using the directory key\n",
    "        # {key: [list of files and corresponding sizes in the directory]}\n",
    "        try:\n",
    "            if len(current_directory) > 1:\n",
    "                if [size, filename] not in directory['/'.join(current_directory)[1:]]:\n",
    "                    directory['/'.join(current_directory)[1:]].append([size, filename])\n",
    "                else:\n",
    "                    print('Duplicate found')\n",
    "            else:\n",
    "                if [size, filename] not in directory['/']:\n",
    "                    directory['/'].append([size, filename])\n",
    "                else:\n",
    "                    print('Duplicate found')\n",
    "        except KeyError:\n",
    "            # The directory key doesn't exist in the dictionary yet so create it\n",
    "            if len(current_directory) > 1:\n",
    "                directory['/'.join(current_directory)[1:]] = [[size, filename]]\n",
    "            else:\n",
    "                directory['/'] = [[size, filename]]"
   ],
   "metadata": {
    "collapsed": false
   }
  },
  {
   "cell_type": "code",
   "execution_count": 99,
   "outputs": [
    {
     "data": {
      "text/plain": "[('/', [[72939, 'hdpgfcwd'], [236918, 'jlncjqh.csz'], [28586, 'wzljr.zvp']]),\n ('/fcqv', [[277152, 'qldfrhm.qnr'], [269351, 'qsd']]),\n ('/fcqv/fhg/jljrdvw', [[101940, 'vsvgjg.tpn']]),\n ('/fcqv/thbb',\n  [[144311, 'cchngzcc.lcd'],\n   [178246, 'fbsj.wtl'],\n   [48521, 'gfsqtssb.vtg'],\n   [284713, 'jwl.hll'],\n   [96717, 'wdqqqv.pcr']]),\n ('/fcv',\n  [[275505, 'fprcz.hrd'],\n   [179689, 'jwn'],\n   [69265, 'tfnws.drt'],\n   [38365, 'twvt.dbs'],\n   [247592, 'zldbq']]),\n ('/fcv/ffhwwg/hlqf', [[30443, 'vrdbrwp.dss']]),\n ('/fcv/vcqsrw', [[224487, 'slr'], [255340, 'vrdbrwp.dss']]),\n ('/fcv/vcqsrw/bzlnsjmv', [[272548, 'qwqlzvzv']]),\n ('/fcv/vcqsrw/rvbtnz', [[165670, 'jwl.lhn']]),\n ('/fcv/znzpm/mjwnsw', [[219638, 'bzcb']]),\n ('/jvwfwrg', [[42104, 'hmphb.qvq'], [243217, 'qldfrhm.rws']]),\n ('/jvwfwrg/ffhwwg', [[179995, 'hcbf.dhw'], [176263, 'lgssjp.mnl']]),\n ('/jvwfwrg/hzjpg',\n  [[241535, 'ddlcslcs.zjh'],\n   [29329, 'qwqlzvzv'],\n   [91380, 'vrdbrwp.dss'],\n   [210633, 'wdqqqv.pcr'],\n   [172051, 'zldbq']]),\n ('/jvwfwrg/hzjpg/ddrwfq', [[11756, 'ffhwwg']]),\n ('/jvwfwrg/hzjpg/mqwww', [[149750, 'wlfmbv.cgp']]),\n ('/jvwfwrg/hzjpg/wctwz', [[277720, 'qldfrhm.bph']]),\n ('/jvwfwrg/hzjpg/wlrmbtdg',\n  [[14154, 'ffhwwg'],\n   [48920, 'qwqlzvzv'],\n   [101228, 'wdqqqv.pcr'],\n   [159676, 'zldbq']]),\n ('/jvwfwrg/hzjpg/wlrmbtdg/hgdjv/hlw', [[229687, 'cdzwfzww.wcv']]),\n ('/jvwfwrg/hzjpg/wlrmbtdg/qldfrhm', [[254189, 'nfbp.gcg']]),\n ('/jvwfwrg/jwl', [[277778, 'drtw'], [163875, 'jwl.pmm']]),\n ('/jvwfwrg/jwl/ghgf', [[181540, 'zsgjptrm.thf']]),\n ('/jvwfwrg/jwl/gqlmq', [[283989, 'hzpwn'], [62581, 'vrdbrwp.dss']]),\n ('/jvwfwrg/jwl/gqlmq/ffhwwg', [[242533, 'qwqlzvzv'], [21991, 'wdqqqv.pcr']]),\n ('/jvwfwrg/jwl/gqlmq/jwl', [[179926, 'jfgbmb.qsd']]),\n ('/jvwfwrg/jwl/gqlmq/jwl/zjv', [[102693, 'ffhwwg.hrt']]),\n ('/jvwfwrg/jwl/gqlmq/pqdqntr', [[159376, 'nqwcsdmv']]),\n ('/jvwfwrg/jwl/mjm',\n  [[273410, 'hdbmpnfv'],\n   [8169, 'qwqlzvzv'],\n   [87728, 'tfgq.vbt'],\n   [221237, 'vrdbrwp.dss']]),\n ('/jvwfwrg/jwl/qgq',\n  [[164971, 'jvwfwrg'],\n   [158534, 'qftjvcz.pfv'],\n   [251561, 'qzzpmh'],\n   [282035, 'wsz']]),\n ('/jvwfwrg/jwl/qgq/dgq',\n  [[237291, 'nfqzn'], [70142, 'qfnrvmp.vbb'], [55607, 'zldbq']]),\n ('/jvwfwrg/jwl/qgq/dgq/ffhwwg',\n  [[117790, 'sqhrdmd.thc'], [186465, 'tfctr.scc'], [236863, 'wdqqqv.pcr']]),\n ('/jvwfwrg/jwl/qgq/hlw', [[244567, 'wrnplfgg.pcw']]),\n ('/jvwfwrg/jwl/qgq/jwl', [[105997, 'lpsg.jjl']]),\n ('/jvwfwrg/nmz', [[51802, 'qwqlzvzv'], [128617, 'zldbq']]),\n ('/jvwfwrg/tdjtv/jvwfwrg', [[35406, 'wdqqqv.pcr']]),\n ('/jvwfwrg/tdjtv/mdmwf', [[15609, 'rdpwqw.pfv'], [205721, 'zldbq']]),\n ('/jvwfwrg/tdjtv/mdmwf/ffhwwg', [[117473, 'hdcv.cwj']]),\n ('/jvwfwrg/tdjtv/rlpbrq',\n  [[120058, 'dgddvmt.fnv'], [194704, 'ffhwwg'], [256467, 'qwqlzvzv']]),\n ('/jvwfwrg/wdn',\n  [[170094, 'bzqsnv'],\n   [150252, 'gwgz.fnf'],\n   [243953, 'jfgbmb.qsd'],\n   [123382, 'qwqlzvzv'],\n   [96220, 'wpc.swm']]),\n ('/jvwfwrg/wdn/gqmghw/tlgbcrh', [[281457, 'ztjhcrwf.ljf']]),\n ('/jvwfwrg/wdn/ztqbhjr', [[271212, 'jfgbmb.qsd'], [260079, 'vrdbrwp.dss']]),\n ('/jvwfwrg/wdn/ztqbhjr/nbhq', [[179096, 'hlw.hrh'], [150184, 'wdqqqv.pcr']]),\n ('/jvwfwrg/wdn/ztqbhjr/vfmmj', [[57445, 'hlw.pfb'], [40329, 'qldfrhm']]),\n ('/tzwpllhq',\n  [[33596, 'cmwwd'],\n   [16963, 'hlw.jrw'],\n   [161107, 'hlw.npq'],\n   [152431, 'nqf.jjg']]),\n ('/tzwpllhq/jwv', [[188795, 'hlw'], [30173, 'qwqlzvzv'], [193577, 'zldbq']]),\n ('/tzwpllhq/jwv/bgswd', [[216966, 'ldbg.dzh']]),\n ('/tzwpllhq/jwv/bgswd/hdgt', [[70441, 'fnv.bpl']]),\n ('/tzwpllhq/jwv/jvwfwrg', [[69374, 'qldfrhm']]),\n ('/tzwpllhq/jwv/jvwfwrg/mctsws', [[257337, 'qsgvbj']]),\n ('/tzwpllhq/jwv/jwl', [[161061, 'ffhwwg']]),\n ('/tzwpllhq/jwv/mbcb/fbhhq/vnn', [[55629, 'cthtjm.wbt']]),\n ('/tzwpllhq/jwv/mbcb/rgjwh', [[7826, 'wrhpmqd.fvw']]),\n ('/tzwpllhq/jwv/qldfrhm',\n  [[14471, 'hlw.lwh'], [163165, 'jnpgzcmt'], [10880, 'qwqlzvzv']]),\n ('/tzwpllhq/qldfrhm',\n  [[15164, 'ldmm'],\n   [188544, 'pwg.zsf'],\n   [255566, 'qjlggt'],\n   [59898, 'zldbq']]),\n ('/tzwpllhq/qldfrhm/ffhwwg', [[218749, 'ffhwwg.ztr']]),\n ('/tzwpllhq/qldfrhm/jwl',\n  [[40245, 'cbhtl.frv'],\n   [268818, 'fmwvvg'],\n   [161866, 'nqp'],\n   [171528, 'qldfrhm'],\n   [282266, 'wdqqqv.pcr']]),\n ('/tzwpllhq/qldfrhm/jwl/nsvjcpc', [[43660, 'wtnhh.zgw']]),\n ('/tzwpllhq/qldfrhm/jwl/nwdvblg/cltj',\n  [[86970, 'dlzsw.whj'], [111805, 'qwqlzvzv'], [247438, 'zldbq']]),\n ('/tzwpllhq/qldfrhm/jwl/nwdvblg/fds',\n  [[49560, 'fsrvhv.lhd'], [234970, 'jvwfwrg.pfd'], [133376, 'qgbmc']]),\n ('/tzwpllhq/qldfrhm/jwl/qqmb', [[139542, 'qzm.jjz']]),\n ('/tzwpllhq/qldfrhm/tbngqwb', [[273706, 'vcfmt.jqv'], [76731, 'wdqqqv.pcr']]),\n ('/tzwpllhq/qldfrhm/tbngqwb/jwl', [[45969, 'ltvvm']]),\n ('/tzwpllhq/swmwvl',\n  [[32187, 'dzn.rnz'], [83763, 'jfgbmb.qsd'], [93113, 'vrdbrwp.dss']]),\n ('/tzwpllhq/swmwvl/gsj', [[152202, 'wntpsp.tbf']]),\n ('/tzwpllhq/swmwvl/gsj/fpzj', [[83665, 'btwqdhnf.qwz']]),\n ('/tzwpllhq/wzpth/snhss/hlw', [[15123, 'qwqlzvzv']]),\n ('/vglf', [[269558, 'qldfrhm'], [116732, 'rqg.zbf'], [72822, 'vrdbrwp.dss']]),\n ('/vglf/gdjmt', [[214742, 'jfgbmb.qsd']]),\n ('/vglf/hnnw',\n  [[217384, 'jfgbmb.qsd'],\n   [153385, 'jvwfwrg'],\n   [143935, 'vrdbrwp.dss'],\n   [90319, 'zldbq'],\n   [101043, 'zqvwfhrz.rfz']]),\n ('/vglf/hnnw/ffhwwg', [[261158, 'jvwfwrg.plf']]),\n ('/vglf/hnnw/ffhwwg/dsqwrdnq', [[129823, 'pngjr.rpg']]),\n ('/vglf/hnnw/jwl', [[215828, 'hpqtdllh']]),\n ('/vglf/hnnw/jwl/bzq', [[199534, 'jvwfwrg.tnt']]),\n ('/vglf/hnnw/jwl/jjmndb',\n  [[201443, 'lgdvsvc.wvp'],\n   [175514, 'nlvh.rjc'],\n   [144450, 'qwqlzvzv'],\n   [150014, 'ttp.zqf'],\n   [240619, 'wdqqqv.pcr']]),\n ('/vglf/hnnw/jwl/jjmndb/cbfdqtc',\n  [[39125, 'ffhwwg.fpg'], [264178, 'jpnslr.qqt'], [180897, 'wjmfvtvn']]),\n ('/vglf/hnnw/jwl/jjmndb/gnjlnz', [[217994, 'jwl.ddh']]),\n ('/vglf/hnnw/jwl/jjmndb/hlw',\n  [[165192, 'ffhwwg.qfc'],\n   [40771, 'gzph.mvb'],\n   [46495, 'jvwfwrg'],\n   [122203, 'lhgfb.blq'],\n   [175167, 'qwqlzvzv']]),\n ('/vglf/hnnw/jwl/jjmndb/hlw/chgwjl', [[284909, 'jwl.qqp']]),\n ('/vglf/hnnw/jwl/jjmndb/hlw/dsz', [[47411, 'bsshfjl.wbd']]),\n ('/vglf/hnnw/jwl/jjmndb/hlw/ttr', [[5609, 'sfz'], [250311, 'vrdbrwp.dss']]),\n ('/vglf/hnnw/jwl/jjmndb/hlw/ttr/fgbgl', [[203288, 'scclvct']]),\n ('/vglf/hnnw/jwl/jjmndb/hlw/ttr/qsflswrq',\n  [[222611, 'ffhwwg'], [143339, 'thrwtw.nsg']]),\n ('/vglf/hnnw/jwl/jjmndb/lzlwstch/ffhwwg', [[51165, 'hlw.hdn']]),\n ('/vglf/hnnw/jwl/jjmndb/lzlwstch/hwmzp', [[54571, 'qwqlzvzv']]),\n ('/vglf/hnnw/jwl/jjmndb/lzlwstch/jvwfwrg', [[130055, 'qldfrhm']]),\n ('/vglf/hnnw/jwl/jjmndb/lzlwstch/ndpbn', [[160215, 'hptz.zms']]),\n ('/vglf/hnnw/jwl/jjmndb/lzlwstch/qllzhd',\n  [[41306, 'hwnllpw.vjp'], [162845, 'vrdbrwp.dss']]),\n ('/vglf/hnnw/jwl/jjmndb/qldfrhm/bwcg', [[181254, 'wpzpd']]),\n ('/vglf/hnnw/jwl/jjmndb/qldfrhm/ffhwwg',\n  [[240618, 'cdmlz.wsf'],\n   [201345, 'jfww'],\n   [128709, 'jwl.gwc'],\n   [284209, 'pswsrf.wwt']]),\n ('/vglf/hnnw/jwl/jjmndb/qldfrhm/ffhwwg/ffhwwg',\n  [[13278, 'wcc.qmr'], [165094, 'wdqqqv.pcr']]),\n ('/vglf/hnnw/jwl/jjmndb/qldfrhm/ffhwwg/qldfrhm',\n  [[104797, 'ccgfmcnc.jrg'],\n   [273814, 'hlw.pnt'],\n   [182685, 'jvwfwrg.szl'],\n   [190595, 'stjhgqd'],\n   [105499, 'vbqw.vwc']]),\n ('/vglf/hnnw/jwl/jjmndb/qldfrhm/ffhwwg/qldfrhm/stpvb',\n  [[221672, 'vrdbrwp.dss']]),\n ('/vglf/hnnw/jwl/jjmndb/qldfrhm/ffhwwg/qldfrhm/zldj/jwl',\n  [[130858, 'jhqhfrbp.nff']]),\n ('/vglf/hnnw/jwl/jjmndb/ssh',\n  [[65814, 'jfgbmb.qsd'], [70744, 'zqhftjbs.jwd']]),\n ('/vglf/hnnw/jwl/jjmndb/ssh/jvwfwrg', [[212356, 'jfgf.szv']]),\n ('/vglf/hnnw/jwl/jjmndb/tbdhtqn',\n  [[37228, 'ffhwwg.vvc'], [69069, 'nrtgtbmp.qlv'], [166294, 'zldbq']]),\n ('/vglf/hnnw/jwl/jjmndb/tbdhtqn/rmrwm', [[118846, 'qldfrhm.hns']]),\n ('/vglf/hnnw/jwl/pjzqjbd', [[259092, 'cqlfdc.qdp'], [89322, 'nmpvmdlp']]),\n ('/vglf/hnnw/jwl/pmslv', [[82637, 'jwl.lhz']]),\n ('/vglf/hnnw/jwl/smfg/gfbpcr', [[23958, 'hnpgr.htf']]),\n ('/vglf/hnnw/jwl/smfg/sghtlzqv',\n  [[275943, 'jfgbmb.qsd'],\n   [149592, 'qwqlzvzv'],\n   [285215, 'sgptfc.msd'],\n   [179076, 'zldbq']]),\n ('/vglf/hnnw/jwl/wmjjwh',\n  [[198333, 'jfgbmb.qsd'],\n   [59553, 'qwqlzvzv'],\n   [91883, 'wdqqqv.pcr'],\n   [7054, 'zldbq']]),\n ('/vglf/hnnw/shdt',\n  [[27781, 'hlw.vcl'],\n   [255994, 'jpd'],\n   [263384, 'rbwbqf.qjc'],\n   [251640, 'tgr.rdc'],\n   [16959, 'zldbq']]),\n ('/vglf/hnnw/shdt/mrgppm/ghzhzzp/bqplqq', [[234131, 'lntldzhp']]),\n ('/vglf/hnnw/shdt/mrgppm/ghzhzzp/vtqgwsj', [[260109, 'qrzrfzr']]),\n ('/vglf/hnnw/shdt/mrgppm/jwl', [[112258, 'ffhwwg.wvp']]),\n ('/vglf/hnnw/shdt/mrgppm/tgpm', [[167788, 'zldbq']]),\n ('/vglf/hnnw/shdt/mrgppm/tgpm/hlw', [[70960, 'qwqlzvzv']]),\n ('/vglf/hnnw/shdt/mwvgmjmb', [[142087, 'pvpw.wtv']]),\n ('/vglf/hnnw/shdt/nsbrbcq/hljjp', [[125853, 'jfgbmb.qsd']]),\n ('/vglf/htqzfcc',\n  [[90664, 'jfgbmb.qsd'], [92316, 'lsjtfbvt'], [166400, 'qwqlzvzv']]),\n ('/vglf/htqzfcc/cqs', [[232548, 'nnv.wph'], [35933, 'rwqj.crp']]),\n ('/vglf/htqzfcc/dsnpcnv', [[115805, 'ffhwwg.tvt']]),\n ('/vglf/htqzfcc/ffhwwg/qldfrhm',\n  [[221567, 'qwqlzvzv'],\n   [33248, 'vrdbrwp.dss'],\n   [114731, 'wdqqqv.pcr'],\n   [276521, 'zldbq']]),\n ('/vglf/htqzfcc/ffhwwg/qldfrhm/rsztzjcm',\n  [[268313, 'frdpwjsh.wsh'],\n   [283644, 'jfgbmb.qsd'],\n   [84130, 'jvwfwrg.vsd'],\n   [31286, 'jwl.rth']]),\n ('/vglf/htqzfcc/ffhwwg/qldfrhm/rsztzjcm/jhdcdm', [[212461, 'qwqlzvzv']]),\n ('/vglf/htqzfcc/ffhwwg/wjj',\n  [[89758, 'jvwfwrg.mmg'], [163105, 'vrdbrwp.dss']]),\n ('/vglf/htqzfcc/mftm', [[278389, 'bbth.bht']]),\n ('/vglf/htqzfcc/mmgn', [[28122, 'zldbq']]),\n ('/vglf/htqzfcc/qqvzvw/mjw',\n  [[10631, 'jfgbmb.qsd'],\n   [206351, 'qldfrhm.hgf'],\n   [136824, 'qwqlzvzv'],\n   [116870, 'qwzczrcf']]),\n ('/vglf/htqzfcc/qqvzvw/mjw/cvn', [[146142, 'ggtd.jlp']]),\n ('/vglf/htqzfcc/qqvzvw/mjw/dlgzc', [[130120, 'wpc']]),\n ('/vglf/htqzfcc/qqvzvw/qldfrhm',\n  [[260238, 'bpf.jbv'],\n   [270180, 'cwdnf'],\n   [50884, 'jvwfwrg.fmq'],\n   [252028, 'qtdzw.bmb']]),\n ('/vglf/htqzfcc/qqvzvw/qldfrhm/czwwzj',\n  [[19863, 'jfgbmb.qsd'], [83915, 'vrdbrwp.dss']]),\n ('/vglf/htqzfcc/qqvzvw/qldfrhm/czwwzj/cpwwqrph/jvwfwrg',\n  [[176717, 'jfgbmb.qsd']]),\n ('/vglf/htqzfcc/qqvzvw/qldfrhm/czwwzj/snl',\n  [[53428, 'gchwbc.jtf'], [220232, 'vrdbrwp.dss']]),\n ('/vglf/htqzfcc/qqvzvw/qldfrhm/czwwzj/snl/btngcvt', [[172859, 'jwl.smp']]),\n ('/vglf/htqzfcc/qqvzvw/qldfrhm/czwwzj/snl/btngcvt/tgcqmbrn',\n  [[149905, 'jvwfwrg']]),\n ('/vglf/htqzfcc/qqvzvw/qldfrhm/czwwzj/snl/ffhwwg', [[145399, 'qldfrhm.hbg']]),\n ('/vglf/htqzfcc/qqvzvw/qldfrhm/mjpzgbww',\n  [[52355, 'bwzwfjtc.rmn'], [5856, 'ffhwwg.tnh'], [146211, 'scbdnlgl']]),\n ('/vglf/htqzfcc/qqvzvw/qldfrhm/rzqj',\n  [[134481, 'vgr'], [187382, 'vrdbrwp.dss']]),\n ('/vglf/htqzfcc/qqvzvw/qldfrhm/rzqj/jmjszd', [[81971, 'qldfrhm']]),\n ('/vglf/htqzfcc/qqvzvw/zbmpdwtc', [[193744, 'jvntrn'], [231403, 'qwqlzvzv']]),\n ('/vglf/htqzfcc/vtf', [[2562, 'vzngcbq']]),\n ('/vglf/htqzfcc/wrbwbdt', [[29261, 'hlw']]),\n ('/vglf/htqzfcc/wrbwbdt/brzwbmc',\n  [[174287, 'jfgbmb.qsd'],\n   [247329, 'mpdz'],\n   [83546, 'vrdbrwp.dss'],\n   [231269, 'wmwhhhmn.rms']]),\n ('/vglf/htqzfcc/wrbwbdt/brzwbmc/ggh', [[18724, 'mrlwwdv.ffb']]),\n ('/vglf/htqzfcc/wrbwbdt/brzwbmc/ggh/cqrmsltg', [[41263, 'pmrmh.zmn']]),\n ('/vglf/htqzfcc/wrbwbdt/brzwbmc/ggh/cqrmsltg/ffhwwg/hlw',\n  [[139875, 'ljnfchr.frr']]),\n ('/vglf/htqzfcc/wrbwbdt/brzwbmc/ggh/cqrmsltg/jvwfwrg', [[141078, 'zldbq']]),\n ('/vglf/htqzfcc/wrbwbdt/brzwbmc/ggh/cqrmsltg/tcjr',\n  [[153685, 'jwl'], [93502, 'nwlsf.dbq'], [226658, 'qwqlzvzv']]),\n ('/vglf/htqzfcc/wrbwbdt/brzwbmc/ggh/cqrmsltg/tcjr/hnngpdc',\n  [[243203, 'gchtc.sst']]),\n ('/vglf/htqzfcc/wrbwbdt/brzwbmc/jwl', [[62087, 'hfp.cfv']]),\n ('/vglf/htqzfcc/wrbwbdt/brzwbmc/thm',\n  [[228008, 'dfqgcd.frc'], [167850, 'glblcw']]),\n ('/vglf/htqzfcc/wrbwbdt/brzwbmc/thm/jvwfwrg', [[170488, 'qmc.vgf']]),\n ('/vglf/htqzfcc/wrbwbdt/brzwbmc/thm/jvwfwrg/ffhwwg',\n  [[258985, 'jfgbmb.qsd']]),\n ('/vglf/htqzfcc/wrbwbdt/brzwbmc/thm/jvwfwrg/jgvf', [[150671, 'rdplqftl']]),\n ('/vglf/nqf/rglrpqd', [[276785, 'nnbs.dhr'], [224128, 'qwqlzvzv']]),\n ('/vglf/tvmqzwmn',\n  [[47655, 'jfgbmb.qsd'],\n   [233646, 'qwqlzvzv'],\n   [237245, 'rqfp'],\n   [185131, 'whntfvm.sfz']])]"
     },
     "execution_count": 99,
     "metadata": {},
     "output_type": "execute_result"
    }
   ],
   "source": [
    "sorted(directory.items())"
   ],
   "metadata": {
    "collapsed": false
   }
  },
  {
   "cell_type": "code",
   "execution_count": 100,
   "outputs": [],
   "source": [
    "directory_size = {}\n",
    "for k in directory:\n",
    "    size = 0\n",
    "    for file in directory[k]:\n",
    "        size += file[0]\n",
    "    directory_size[k] = size"
   ],
   "metadata": {
    "collapsed": false
   }
  },
  {
   "cell_type": "code",
   "execution_count": 101,
   "outputs": [
    {
     "data": {
      "text/plain": "[('/', 338443),\n ('/fcqv', 546503),\n ('/fcqv/fhg/jljrdvw', 101940),\n ('/fcqv/thbb', 752508),\n ('/fcv', 810416),\n ('/fcv/ffhwwg/hlqf', 30443),\n ('/fcv/vcqsrw', 479827),\n ('/fcv/vcqsrw/bzlnsjmv', 272548),\n ('/fcv/vcqsrw/rvbtnz', 165670),\n ('/fcv/znzpm/mjwnsw', 219638),\n ('/jvwfwrg', 285321),\n ('/jvwfwrg/ffhwwg', 356258),\n ('/jvwfwrg/hzjpg', 744928),\n ('/jvwfwrg/hzjpg/ddrwfq', 11756),\n ('/jvwfwrg/hzjpg/mqwww', 149750),\n ('/jvwfwrg/hzjpg/wctwz', 277720),\n ('/jvwfwrg/hzjpg/wlrmbtdg', 323978),\n ('/jvwfwrg/hzjpg/wlrmbtdg/hgdjv/hlw', 229687),\n ('/jvwfwrg/hzjpg/wlrmbtdg/qldfrhm', 254189),\n ('/jvwfwrg/jwl', 441653),\n ('/jvwfwrg/jwl/ghgf', 181540),\n ('/jvwfwrg/jwl/gqlmq', 346570),\n ('/jvwfwrg/jwl/gqlmq/ffhwwg', 264524),\n ('/jvwfwrg/jwl/gqlmq/jwl', 179926),\n ('/jvwfwrg/jwl/gqlmq/jwl/zjv', 102693),\n ('/jvwfwrg/jwl/gqlmq/pqdqntr', 159376),\n ('/jvwfwrg/jwl/mjm', 590544),\n ('/jvwfwrg/jwl/qgq', 857101),\n ('/jvwfwrg/jwl/qgq/dgq', 363040),\n ('/jvwfwrg/jwl/qgq/dgq/ffhwwg', 541118),\n ('/jvwfwrg/jwl/qgq/hlw', 244567),\n ('/jvwfwrg/jwl/qgq/jwl', 105997),\n ('/jvwfwrg/nmz', 180419),\n ('/jvwfwrg/tdjtv/jvwfwrg', 35406),\n ('/jvwfwrg/tdjtv/mdmwf', 221330),\n ('/jvwfwrg/tdjtv/mdmwf/ffhwwg', 117473),\n ('/jvwfwrg/tdjtv/rlpbrq', 571229),\n ('/jvwfwrg/wdn', 783901),\n ('/jvwfwrg/wdn/gqmghw/tlgbcrh', 281457),\n ('/jvwfwrg/wdn/ztqbhjr', 531291),\n ('/jvwfwrg/wdn/ztqbhjr/nbhq', 329280),\n ('/jvwfwrg/wdn/ztqbhjr/vfmmj', 97774),\n ('/tzwpllhq', 364097),\n ('/tzwpllhq/jwv', 412545),\n ('/tzwpllhq/jwv/bgswd', 216966),\n ('/tzwpllhq/jwv/bgswd/hdgt', 70441),\n ('/tzwpllhq/jwv/jvwfwrg', 69374),\n ('/tzwpllhq/jwv/jvwfwrg/mctsws', 257337),\n ('/tzwpllhq/jwv/jwl', 161061),\n ('/tzwpllhq/jwv/mbcb/fbhhq/vnn', 55629),\n ('/tzwpllhq/jwv/mbcb/rgjwh', 7826),\n ('/tzwpllhq/jwv/qldfrhm', 188516),\n ('/tzwpllhq/qldfrhm', 519172),\n ('/tzwpllhq/qldfrhm/ffhwwg', 218749),\n ('/tzwpllhq/qldfrhm/jwl', 924723),\n ('/tzwpllhq/qldfrhm/jwl/nsvjcpc', 43660),\n ('/tzwpllhq/qldfrhm/jwl/nwdvblg/cltj', 446213),\n ('/tzwpllhq/qldfrhm/jwl/nwdvblg/fds', 417906),\n ('/tzwpllhq/qldfrhm/jwl/qqmb', 139542),\n ('/tzwpllhq/qldfrhm/tbngqwb', 350437),\n ('/tzwpllhq/qldfrhm/tbngqwb/jwl', 45969),\n ('/tzwpllhq/swmwvl', 209063),\n ('/tzwpllhq/swmwvl/gsj', 152202),\n ('/tzwpllhq/swmwvl/gsj/fpzj', 83665),\n ('/tzwpllhq/wzpth/snhss/hlw', 15123),\n ('/vglf', 459112),\n ('/vglf/gdjmt', 214742),\n ('/vglf/hnnw', 706066),\n ('/vglf/hnnw/ffhwwg', 261158),\n ('/vglf/hnnw/ffhwwg/dsqwrdnq', 129823),\n ('/vglf/hnnw/jwl', 215828),\n ('/vglf/hnnw/jwl/bzq', 199534),\n ('/vglf/hnnw/jwl/jjmndb', 912040),\n ('/vglf/hnnw/jwl/jjmndb/cbfdqtc', 484200),\n ('/vglf/hnnw/jwl/jjmndb/gnjlnz', 217994),\n ('/vglf/hnnw/jwl/jjmndb/hlw', 549828),\n ('/vglf/hnnw/jwl/jjmndb/hlw/chgwjl', 284909),\n ('/vglf/hnnw/jwl/jjmndb/hlw/dsz', 47411),\n ('/vglf/hnnw/jwl/jjmndb/hlw/ttr', 255920),\n ('/vglf/hnnw/jwl/jjmndb/hlw/ttr/fgbgl', 203288),\n ('/vglf/hnnw/jwl/jjmndb/hlw/ttr/qsflswrq', 365950),\n ('/vglf/hnnw/jwl/jjmndb/lzlwstch/ffhwwg', 51165),\n ('/vglf/hnnw/jwl/jjmndb/lzlwstch/hwmzp', 54571),\n ('/vglf/hnnw/jwl/jjmndb/lzlwstch/jvwfwrg', 130055),\n ('/vglf/hnnw/jwl/jjmndb/lzlwstch/ndpbn', 160215),\n ('/vglf/hnnw/jwl/jjmndb/lzlwstch/qllzhd', 204151),\n ('/vglf/hnnw/jwl/jjmndb/qldfrhm/bwcg', 181254),\n ('/vglf/hnnw/jwl/jjmndb/qldfrhm/ffhwwg', 854881),\n ('/vglf/hnnw/jwl/jjmndb/qldfrhm/ffhwwg/ffhwwg', 178372),\n ('/vglf/hnnw/jwl/jjmndb/qldfrhm/ffhwwg/qldfrhm', 857390),\n ('/vglf/hnnw/jwl/jjmndb/qldfrhm/ffhwwg/qldfrhm/stpvb', 221672),\n ('/vglf/hnnw/jwl/jjmndb/qldfrhm/ffhwwg/qldfrhm/zldj/jwl', 130858),\n ('/vglf/hnnw/jwl/jjmndb/ssh', 136558),\n ('/vglf/hnnw/jwl/jjmndb/ssh/jvwfwrg', 212356),\n ('/vglf/hnnw/jwl/jjmndb/tbdhtqn', 272591),\n ('/vglf/hnnw/jwl/jjmndb/tbdhtqn/rmrwm', 118846),\n ('/vglf/hnnw/jwl/pjzqjbd', 348414),\n ('/vglf/hnnw/jwl/pmslv', 82637),\n ('/vglf/hnnw/jwl/smfg/gfbpcr', 23958),\n ('/vglf/hnnw/jwl/smfg/sghtlzqv', 889826),\n ('/vglf/hnnw/jwl/wmjjwh', 356823),\n ('/vglf/hnnw/shdt', 815758),\n ('/vglf/hnnw/shdt/mrgppm/ghzhzzp/bqplqq', 234131),\n ('/vglf/hnnw/shdt/mrgppm/ghzhzzp/vtqgwsj', 260109),\n ('/vglf/hnnw/shdt/mrgppm/jwl', 112258),\n ('/vglf/hnnw/shdt/mrgppm/tgpm', 167788),\n ('/vglf/hnnw/shdt/mrgppm/tgpm/hlw', 70960),\n ('/vglf/hnnw/shdt/mwvgmjmb', 142087),\n ('/vglf/hnnw/shdt/nsbrbcq/hljjp', 125853),\n ('/vglf/htqzfcc', 349380),\n ('/vglf/htqzfcc/cqs', 268481),\n ('/vglf/htqzfcc/dsnpcnv', 115805),\n ('/vglf/htqzfcc/ffhwwg/qldfrhm', 646067),\n ('/vglf/htqzfcc/ffhwwg/qldfrhm/rsztzjcm', 667373),\n ('/vglf/htqzfcc/ffhwwg/qldfrhm/rsztzjcm/jhdcdm', 212461),\n ('/vglf/htqzfcc/ffhwwg/wjj', 252863),\n ('/vglf/htqzfcc/mftm', 278389),\n ('/vglf/htqzfcc/mmgn', 28122),\n ('/vglf/htqzfcc/qqvzvw/mjw', 470676),\n ('/vglf/htqzfcc/qqvzvw/mjw/cvn', 146142),\n ('/vglf/htqzfcc/qqvzvw/mjw/dlgzc', 130120),\n ('/vglf/htqzfcc/qqvzvw/qldfrhm', 833330),\n ('/vglf/htqzfcc/qqvzvw/qldfrhm/czwwzj', 103778),\n ('/vglf/htqzfcc/qqvzvw/qldfrhm/czwwzj/cpwwqrph/jvwfwrg', 176717),\n ('/vglf/htqzfcc/qqvzvw/qldfrhm/czwwzj/snl', 273660),\n ('/vglf/htqzfcc/qqvzvw/qldfrhm/czwwzj/snl/btngcvt', 172859),\n ('/vglf/htqzfcc/qqvzvw/qldfrhm/czwwzj/snl/btngcvt/tgcqmbrn', 149905),\n ('/vglf/htqzfcc/qqvzvw/qldfrhm/czwwzj/snl/ffhwwg', 145399),\n ('/vglf/htqzfcc/qqvzvw/qldfrhm/mjpzgbww', 204422),\n ('/vglf/htqzfcc/qqvzvw/qldfrhm/rzqj', 321863),\n ('/vglf/htqzfcc/qqvzvw/qldfrhm/rzqj/jmjszd', 81971),\n ('/vglf/htqzfcc/qqvzvw/zbmpdwtc', 425147),\n ('/vglf/htqzfcc/vtf', 2562),\n ('/vglf/htqzfcc/wrbwbdt', 29261),\n ('/vglf/htqzfcc/wrbwbdt/brzwbmc', 736431),\n ('/vglf/htqzfcc/wrbwbdt/brzwbmc/ggh', 18724),\n ('/vglf/htqzfcc/wrbwbdt/brzwbmc/ggh/cqrmsltg', 41263),\n ('/vglf/htqzfcc/wrbwbdt/brzwbmc/ggh/cqrmsltg/ffhwwg/hlw', 139875),\n ('/vglf/htqzfcc/wrbwbdt/brzwbmc/ggh/cqrmsltg/jvwfwrg', 141078),\n ('/vglf/htqzfcc/wrbwbdt/brzwbmc/ggh/cqrmsltg/tcjr', 473845),\n ('/vglf/htqzfcc/wrbwbdt/brzwbmc/ggh/cqrmsltg/tcjr/hnngpdc', 243203),\n ('/vglf/htqzfcc/wrbwbdt/brzwbmc/jwl', 62087),\n ('/vglf/htqzfcc/wrbwbdt/brzwbmc/thm', 395858),\n ('/vglf/htqzfcc/wrbwbdt/brzwbmc/thm/jvwfwrg', 170488),\n ('/vglf/htqzfcc/wrbwbdt/brzwbmc/thm/jvwfwrg/ffhwwg', 258985),\n ('/vglf/htqzfcc/wrbwbdt/brzwbmc/thm/jvwfwrg/jgvf', 150671),\n ('/vglf/nqf/rglrpqd', 500913),\n ('/vglf/tvmqzwmn', 703677)]"
     },
     "execution_count": 101,
     "metadata": {},
     "output_type": "execute_result"
    }
   ],
   "source": [
    "sorted(directory_size.items())"
   ],
   "metadata": {
    "collapsed": false
   }
  },
  {
   "cell_type": "code",
   "execution_count": 102,
   "outputs": [
    {
     "data": {
      "text/plain": "{'/': 42677139,\n '/fcqv': 1400951,\n '/fcqv/fhg/jljrdvw': 101940,\n '/fcqv/thbb': 752508,\n '/fcv': 1978542,\n '/fcv/ffhwwg/hlqf': 30443,\n '/fcv/vcqsrw': 918045,\n '/fcv/vcqsrw/bzlnsjmv': 272548,\n '/fcv/vcqsrw/rvbtnz': 165670,\n '/fcv/znzpm/mjwnsw': 219638,\n '/jvwfwrg': 10161796,\n '/jvwfwrg/ffhwwg': 356258,\n '/jvwfwrg/hzjpg': 1992008,\n '/jvwfwrg/hzjpg/ddrwfq': 11756,\n '/jvwfwrg/hzjpg/mqwww': 149750,\n '/jvwfwrg/hzjpg/wctwz': 277720,\n '/jvwfwrg/hzjpg/wlrmbtdg': 807854,\n '/jvwfwrg/hzjpg/wlrmbtdg/hgdjv/hlw': 229687,\n '/jvwfwrg/hzjpg/wlrmbtdg/qldfrhm': 254189,\n '/jvwfwrg/jwl': 4378649,\n '/jvwfwrg/jwl/ghgf': 181540,\n '/jvwfwrg/jwl/gqlmq': 1053089,\n '/jvwfwrg/jwl/gqlmq/ffhwwg': 264524,\n '/jvwfwrg/jwl/gqlmq/jwl': 282619,\n '/jvwfwrg/jwl/gqlmq/jwl/zjv': 102693,\n '/jvwfwrg/jwl/gqlmq/pqdqntr': 159376,\n '/jvwfwrg/jwl/mjm': 590544,\n '/jvwfwrg/jwl/qgq': 2111823,\n '/jvwfwrg/jwl/qgq/dgq': 904158,\n '/jvwfwrg/jwl/qgq/dgq/ffhwwg': 541118,\n '/jvwfwrg/jwl/qgq/hlw': 244567,\n '/jvwfwrg/jwl/qgq/jwl': 105997,\n '/jvwfwrg/nmz': 180419,\n '/jvwfwrg/tdjtv/jvwfwrg': 35406,\n '/jvwfwrg/tdjtv/mdmwf': 338803,\n '/jvwfwrg/tdjtv/mdmwf/ffhwwg': 117473,\n '/jvwfwrg/tdjtv/rlpbrq': 571229,\n '/jvwfwrg/wdn': 2023703,\n '/jvwfwrg/wdn/gqmghw/tlgbcrh': 281457,\n '/jvwfwrg/wdn/ztqbhjr': 958345,\n '/jvwfwrg/wdn/ztqbhjr/nbhq': 329280,\n '/jvwfwrg/wdn/ztqbhjr/vfmmj': 97774,\n '/tzwpllhq': 5370216,\n '/tzwpllhq/jwv': 1439695,\n '/tzwpllhq/jwv/bgswd': 287407,\n '/tzwpllhq/jwv/bgswd/hdgt': 70441,\n '/tzwpllhq/jwv/jvwfwrg': 326711,\n '/tzwpllhq/jwv/jvwfwrg/mctsws': 257337,\n '/tzwpllhq/jwv/jwl': 161061,\n '/tzwpllhq/jwv/mbcb/fbhhq/vnn': 55629,\n '/tzwpllhq/jwv/mbcb/rgjwh': 7826,\n '/tzwpllhq/jwv/qldfrhm': 188516,\n '/tzwpllhq/qldfrhm': 3106371,\n '/tzwpllhq/qldfrhm/ffhwwg': 218749,\n '/tzwpllhq/qldfrhm/jwl': 1972044,\n '/tzwpllhq/qldfrhm/jwl/nsvjcpc': 43660,\n '/tzwpllhq/qldfrhm/jwl/nwdvblg/cltj': 446213,\n '/tzwpllhq/qldfrhm/jwl/nwdvblg/fds': 417906,\n '/tzwpllhq/qldfrhm/jwl/qqmb': 139542,\n '/tzwpllhq/qldfrhm/tbngqwb': 396406,\n '/tzwpllhq/qldfrhm/tbngqwb/jwl': 45969,\n '/tzwpllhq/swmwvl': 444930,\n '/tzwpllhq/swmwvl/gsj': 235867,\n '/tzwpllhq/swmwvl/gsj/fpzj': 83665,\n '/tzwpllhq/wzpth/snhss/hlw': 15123,\n '/vglf': 23427191,\n '/vglf/gdjmt': 214742,\n '/vglf/hnnw': 12229486,\n '/vglf/hnnw/ffhwwg': 390981,\n '/vglf/hnnw/ffhwwg/dsqwrdnq': 129823,\n '/vglf/hnnw/jwl': 9203495,\n '/vglf/hnnw/jwl/bzq': 199534,\n '/vglf/hnnw/jwl/jjmndb': 7086475,\n '/vglf/hnnw/jwl/jjmndb/cbfdqtc': 484200,\n '/vglf/hnnw/jwl/jjmndb/gnjlnz': 217994,\n '/vglf/hnnw/jwl/jjmndb/hlw': 1707306,\n '/vglf/hnnw/jwl/jjmndb/hlw/chgwjl': 284909,\n '/vglf/hnnw/jwl/jjmndb/hlw/dsz': 47411,\n '/vglf/hnnw/jwl/jjmndb/hlw/ttr': 825158,\n '/vglf/hnnw/jwl/jjmndb/hlw/ttr/fgbgl': 203288,\n '/vglf/hnnw/jwl/jjmndb/hlw/ttr/qsflswrq': 365950,\n '/vglf/hnnw/jwl/jjmndb/lzlwstch/ffhwwg': 51165,\n '/vglf/hnnw/jwl/jjmndb/lzlwstch/hwmzp': 54571,\n '/vglf/hnnw/jwl/jjmndb/lzlwstch/jvwfwrg': 130055,\n '/vglf/hnnw/jwl/jjmndb/lzlwstch/ndpbn': 160215,\n '/vglf/hnnw/jwl/jjmndb/lzlwstch/qllzhd': 204151,\n '/vglf/hnnw/jwl/jjmndb/qldfrhm/bwcg': 181254,\n '/vglf/hnnw/jwl/jjmndb/qldfrhm/ffhwwg': 2243173,\n '/vglf/hnnw/jwl/jjmndb/qldfrhm/ffhwwg/ffhwwg': 178372,\n '/vglf/hnnw/jwl/jjmndb/qldfrhm/ffhwwg/qldfrhm': 1209920,\n '/vglf/hnnw/jwl/jjmndb/qldfrhm/ffhwwg/qldfrhm/stpvb': 221672,\n '/vglf/hnnw/jwl/jjmndb/qldfrhm/ffhwwg/qldfrhm/zldj/jwl': 130858,\n '/vglf/hnnw/jwl/jjmndb/ssh': 348914,\n '/vglf/hnnw/jwl/jjmndb/ssh/jvwfwrg': 212356,\n '/vglf/hnnw/jwl/jjmndb/tbdhtqn': 391437,\n '/vglf/hnnw/jwl/jjmndb/tbdhtqn/rmrwm': 118846,\n '/vglf/hnnw/jwl/pjzqjbd': 348414,\n '/vglf/hnnw/jwl/pmslv': 82637,\n '/vglf/hnnw/jwl/smfg/gfbpcr': 23958,\n '/vglf/hnnw/jwl/smfg/sghtlzqv': 889826,\n '/vglf/hnnw/jwl/wmjjwh': 356823,\n '/vglf/hnnw/shdt': 1928944,\n '/vglf/hnnw/shdt/mrgppm/ghzhzzp/bqplqq': 234131,\n '/vglf/hnnw/shdt/mrgppm/ghzhzzp/vtqgwsj': 260109,\n '/vglf/hnnw/shdt/mrgppm/jwl': 112258,\n '/vglf/hnnw/shdt/mrgppm/tgpm': 238748,\n '/vglf/hnnw/shdt/mrgppm/tgpm/hlw': 70960,\n '/vglf/hnnw/shdt/mwvgmjmb': 142087,\n '/vglf/hnnw/shdt/nsbrbcq/hljjp': 125853,\n '/vglf/htqzfcc': 9319261,\n '/vglf/htqzfcc/cqs': 268481,\n '/vglf/htqzfcc/dsnpcnv': 115805,\n '/vglf/htqzfcc/ffhwwg/qldfrhm': 1525901,\n '/vglf/htqzfcc/ffhwwg/qldfrhm/rsztzjcm': 879834,\n '/vglf/htqzfcc/ffhwwg/qldfrhm/rsztzjcm/jhdcdm': 212461,\n '/vglf/htqzfcc/ffhwwg/wjj': 252863,\n '/vglf/htqzfcc/mftm': 278389,\n '/vglf/htqzfcc/mmgn': 28122,\n '/vglf/htqzfcc/qqvzvw/mjw': 746938,\n '/vglf/htqzfcc/qqvzvw/mjw/cvn': 146142,\n '/vglf/htqzfcc/qqvzvw/mjw/dlgzc': 130120,\n '/vglf/htqzfcc/qqvzvw/qldfrhm': 2463904,\n '/vglf/htqzfcc/qqvzvw/qldfrhm/czwwzj': 1022318,\n '/vglf/htqzfcc/qqvzvw/qldfrhm/czwwzj/cpwwqrph/jvwfwrg': 176717,\n '/vglf/htqzfcc/qqvzvw/qldfrhm/czwwzj/snl': 741823,\n '/vglf/htqzfcc/qqvzvw/qldfrhm/czwwzj/snl/btngcvt': 322764,\n '/vglf/htqzfcc/qqvzvw/qldfrhm/czwwzj/snl/btngcvt/tgcqmbrn': 149905,\n '/vglf/htqzfcc/qqvzvw/qldfrhm/czwwzj/snl/ffhwwg': 145399,\n '/vglf/htqzfcc/qqvzvw/qldfrhm/mjpzgbww': 204422,\n '/vglf/htqzfcc/qqvzvw/qldfrhm/rzqj': 403834,\n '/vglf/htqzfcc/qqvzvw/qldfrhm/rzqj/jmjszd': 81971,\n '/vglf/htqzfcc/qqvzvw/zbmpdwtc': 425147,\n '/vglf/htqzfcc/vtf': 2562,\n '/vglf/htqzfcc/wrbwbdt': 2861769,\n '/vglf/htqzfcc/wrbwbdt/brzwbmc': 2832508,\n '/vglf/htqzfcc/wrbwbdt/brzwbmc/ggh': 1057988,\n '/vglf/htqzfcc/wrbwbdt/brzwbmc/ggh/cqrmsltg': 1039264,\n '/vglf/htqzfcc/wrbwbdt/brzwbmc/ggh/cqrmsltg/ffhwwg/hlw': 139875,\n '/vglf/htqzfcc/wrbwbdt/brzwbmc/ggh/cqrmsltg/jvwfwrg': 141078,\n '/vglf/htqzfcc/wrbwbdt/brzwbmc/ggh/cqrmsltg/tcjr': 717048,\n '/vglf/htqzfcc/wrbwbdt/brzwbmc/ggh/cqrmsltg/tcjr/hnngpdc': 243203,\n '/vglf/htqzfcc/wrbwbdt/brzwbmc/jwl': 62087,\n '/vglf/htqzfcc/wrbwbdt/brzwbmc/thm': 976002,\n '/vglf/htqzfcc/wrbwbdt/brzwbmc/thm/jvwfwrg': 580144,\n '/vglf/htqzfcc/wrbwbdt/brzwbmc/thm/jvwfwrg/ffhwwg': 258985,\n '/vglf/htqzfcc/wrbwbdt/brzwbmc/thm/jvwfwrg/jgvf': 150671,\n '/vglf/nqf/rglrpqd': 500913,\n '/vglf/tvmqzwmn': 703677}"
     },
     "execution_count": 102,
     "metadata": {},
     "output_type": "execute_result"
    }
   ],
   "source": [
    "directory_total = {}\n",
    "for key in directory_size:\n",
    "    for subkey in directory_size:\n",
    "        if key == subkey[:len(key)]:\n",
    "            try:\n",
    "                directory_total[key] += directory_size[subkey]\n",
    "            except KeyError:\n",
    "                directory_total[key] = directory_size[subkey]\n",
    "directory_total"
   ],
   "metadata": {
    "collapsed": false
   }
  },
  {
   "cell_type": "code",
   "execution_count": 103,
   "outputs": [
    {
     "name": "stdout",
     "output_type": "stream",
     "text": [
      "1003136\n"
     ]
    }
   ],
   "source": [
    "total_size = 0\n",
    "for key in directory_total:\n",
    "    if directory_total[key] <= 100000:\n",
    "        total_size += directory_total[key]\n",
    "print(total_size)"
   ],
   "metadata": {
    "collapsed": false
   }
  },
  {
   "cell_type": "markdown",
   "source": [
    "# Part 2"
   ],
   "metadata": {
    "collapsed": false
   }
  },
  {
   "cell_type": "code",
   "execution_count": 103,
   "outputs": [],
   "source": [],
   "metadata": {
    "collapsed": false
   }
  }
 ],
 "metadata": {
  "kernelspec": {
   "display_name": "Python 3",
   "language": "python",
   "name": "python3"
  },
  "language_info": {
   "codemirror_mode": {
    "name": "ipython",
    "version": 2
   },
   "file_extension": ".py",
   "mimetype": "text/x-python",
   "name": "python",
   "nbconvert_exporter": "python",
   "pygments_lexer": "ipython2",
   "version": "2.7.6"
  }
 },
 "nbformat": 4,
 "nbformat_minor": 0
}
